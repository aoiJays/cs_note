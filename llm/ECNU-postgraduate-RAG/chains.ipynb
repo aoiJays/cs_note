{
 "cells": [
  {
   "cell_type": "code",
   "execution_count": 1,
   "metadata": {},
   "outputs": [
    {
     "name": "stdout",
     "output_type": "stream",
     "text": [
      "我是一个大型语言模型，没有情感和个人感觉。但我可以回答各种问题和提供帮助。有什么我可以帮助你的吗？\n"
     ]
    }
   ],
   "source": [
    "from langchain_community.llms import Tongyi\n",
    "llm = Tongyi( model_name=\"qwen1.5-1.8b-chat\", temperature=0.95, top_p=0.7, max_tokens=10 )\n",
    "print( llm.invoke(\"你好吗？\") )"
   ]
  },
  {
   "cell_type": "code",
   "execution_count": 8,
   "metadata": {},
   "outputs": [],
   "source": [
    "from langchain.chains import LLMChain\n",
    "from langchain_core.prompts import PromptTemplate\n",
    "\n",
    "# LLMChain1 英文翻译中文\n",
    "chain1_prompt = PromptTemplate.from_template('''\n",
    "请将以下文本翻译成流畅的中文：\n",
    "文本：{Source_txt}\n",
    "翻译：\n",
    "''')\n",
    "chain1 = LLMChain(llm=llm, prompt=chain1_prompt, output_key='Translated_txt')\n",
    "\n",
    "\n",
    "# LLMChain2 语言分类\n",
    "chain2_prompt = PromptTemplate.from_template('''\n",
    "这一段文本使用的是哪一种语言？\n",
    "文本：{Source_txt}\n",
    "语言：\n",
    "''')\n",
    "chain2 = LLMChain(llm=llm, prompt=chain2_prompt, output_key='answer')\n",
    "\n",
    "# LLMChain3 中文归纳\n",
    "chain3_prompt = PromptTemplate.from_template('''\n",
    "请用简洁的一句话，概括以下文本：\n",
    "文本：{Translated_txt}\n",
    "概括：\n",
    "''')\n",
    "chain3 = LLMChain(llm=llm, prompt=chain3_prompt, output_key='summary')\n"
   ]
  },
  {
   "cell_type": "code",
   "execution_count": 9,
   "metadata": {},
   "outputs": [
    {
     "name": "stdout",
     "output_type": "stream",
     "text": [
      "\n",
      "\n",
      "\u001b[1m> Entering new SequentialChain chain...\u001b[0m\n",
      "\n",
      "\u001b[1m> Finished chain.\u001b[0m\n"
     ]
    },
    {
     "data": {
      "text/plain": [
       "{'Source_txt': 'Miss Muelsyse is a highly regarded genius scientist in the academic circles of Columbia in recent years. At less than thirty years old, she has already become one of the top ten figures at Rhine Life, serving as the Director of Ecology and a guest lecturer at the University of Trimondo. Over the past decade, Miss Muelsyse and her research team have made significant advancements in various fields, including ecology, genetics, plant biochemistry, and plant physiology, greatly contributing to the development of life sciences and environmental sciences in Columbia.',\n",
       " 'Translated_txt': '近年来，莫尔斯西小姐在哥伦比亚学术界享有极高的声誉。她在不到30岁的时候，就已经成为Rhein Life十强人物之一，担任生态学与环境科学大学副校长一职，并担任特雷蒙多大学客座讲师。过去十年间，莫尔斯西及其研究团队在生态学、遗传学、植物生物化学和植物生理等领域取得了显著突破，对哥伦比亚生命科学和环境科学的发展做出了重要贡献。',\n",
       " 'answer': '这段文本使用了英语。',\n",
       " 'summary': '莫尔斯西小姐在哥伦比亚学术界享有极高声誉，是知名生态学与环境科学大学副校长及特雷蒙多大学客座讲师，在近十年间在多个领域取得显著突破，对哥伦比亚生命科学和环境科学发展做出重要贡献。'}"
      ]
     },
     "execution_count": 9,
     "metadata": {},
     "output_type": "execute_result"
    }
   ],
   "source": [
    "txt = \"Miss Muelsyse is a highly regarded genius scientist in the academic circles of Columbia in recent years. At less than thirty years old, she has already become one of the top ten figures at Rhine Life, serving as the Director of Ecology and a guest lecturer at the University of Trimondo. Over the past decade, Miss Muelsyse and her research team have made significant advancements in various fields, including ecology, genetics, plant biochemistry, and plant physiology, greatly contributing to the development of life sciences and environmental sciences in Columbia.\"\n",
    "\n",
    "from langchain.chains import SequentialChain\n",
    "chains = SequentialChain(\n",
    "    chains = [chain1, chain2, chain3],\n",
    "    input_variables = ['Source_txt'],\n",
    "    output_variables = ['Translated_txt', 'summary'], # 如果希望返回中间的输出结果\n",
    "    verbose=True\n",
    ")\n",
    "\n",
    "chains.invoke(txt)"
   ]
  }
 ],
 "metadata": {
  "kernelspec": {
   "display_name": "langchain",
   "language": "python",
   "name": "python3"
  },
  "language_info": {
   "codemirror_mode": {
    "name": "ipython",
    "version": 3
   },
   "file_extension": ".py",
   "mimetype": "text/x-python",
   "name": "python",
   "nbconvert_exporter": "python",
   "pygments_lexer": "ipython3",
   "version": "3.10.14"
  }
 },
 "nbformat": 4,
 "nbformat_minor": 2
}
