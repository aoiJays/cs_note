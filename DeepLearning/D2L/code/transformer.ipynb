{
 "cells": [
  {
   "cell_type": "code",
   "execution_count": 96,
   "metadata": {},
   "outputs": [],
   "source": [
    "import numpy as np\n",
    "import torch\n",
    "import torch.nn as nn\n",
    "import torch.nn.functional as F\n",
    "import math, copy, time\n",
    "from torch.autograd import Variable\n",
    "import matplotlib.pyplot as plt\n",
    "import seaborn as sns"
   ]
  },
  {
   "cell_type": "code",
   "execution_count": 97,
   "metadata": {},
   "outputs": [],
   "source": [
    "def show_heatmaps(matrix):\n",
    "    matrix = matrix[0,0]\n",
    "    plt.figure(figsize=(8, 6)) \n",
    "    sns.heatmap(matrix,cmap=\"viridis\")\n",
    "    plt.title(\"Attention\")\n",
    "    plt.xlabel(\"Key\")\n",
    "    plt.ylabel(\"Query\")\n",
    "    plt.show()\n"
   ]
  },
  {
   "cell_type": "code",
   "execution_count": 98,
   "metadata": {},
   "outputs": [],
   "source": [
    "class Embeddings(nn.Module):\n",
    "    def __init__(self, d_model, vocab):\n",
    "        super().__init__()\n",
    "        # vocab 表示词汇表的大小，d_model 表示嵌入向量的维度\n",
    "        self.lut = nn.Embedding(vocab, d_model)\n",
    "        self.d_model = d_model\n",
    "    def forward(self, x):\n",
    "        return self.lut(x) * math.sqrt(self.d_model)"
   ]
  },
  {
   "cell_type": "code",
   "execution_count": 99,
   "metadata": {},
   "outputs": [
    {
     "data": {
      "text/plain": [
       "tensor([[[ 0.0000,  1.1111,  0.0000,  1.1111],\n",
       "         [ 0.9350,  0.6003,  0.0111,  1.1111],\n",
       "         [ 1.0103, -0.4624,  0.0222,  1.1109],\n",
       "         [ 0.1568, -1.1000,  0.0333,  1.1106],\n",
       "         [-0.8409, -0.7263,  0.0444,  1.1102],\n",
       "         [-1.0655,  0.3152,  0.0555,  0.0000],\n",
       "         [-0.3105,  1.0669,  0.0666,  1.1091],\n",
       "         [ 0.7300,  0.8377,  0.0777,  1.1084],\n",
       "         [ 1.0993, -0.1617,  0.0888,  1.1076],\n",
       "         [ 0.4579, -1.0124,  0.0999,  0.0000]]])"
      ]
     },
     "execution_count": 99,
     "metadata": {},
     "output_type": "execute_result"
    },
    {
     "data": {
      "text/plain": [
       "<Figure size 1500x500 with 0 Axes>"
      ]
     },
     "metadata": {},
     "output_type": "display_data"
    }
   ],
   "source": [
    "class PositionalEncoding(nn.Module):\n",
    "    \n",
    "    # 词嵌入维度 dropout概率 最大序列长度\n",
    "    def __init__(self, d_model, dropout, max_len = 5000):\n",
    "        super(PositionalEncoding, self).__init__()\n",
    "        \n",
    "        # 对于序列的每个位置 初始化每一维\n",
    "        position_encoding = torch.zeros( max_len, d_model )\n",
    "        \n",
    "        # div_term : pos * exp( - (2i/d_model)ln1e4 ) \n",
    "            # 0~2i,2i+1~d_model-1\n",
    "            # -torch.arange(0, d_model, 2) / d_model   -> -2i/d_model\n",
    "        div_term = torch.exp( -torch.arange(0, d_model, 2) / d_model * math.log(10000.0) ) \n",
    "        position = torch.arange( max_len ).unsqueeze(1) # ->  [ [0], [1], [2], ... ]\n",
    "        \n",
    "        # position*div_term 广播机制 \n",
    "        # position : (max_len, 1) div_term : (1, d_model/2)\n",
    "        # -> (max_len, d_model/2)\n",
    "        half_pe = position*div_term\n",
    "        position_encoding[:, 0::2] = torch.sin(half_pe) # 每个token的偶数维度\n",
    "        position_encoding[:, 1::2] = torch.cos(half_pe) # 每个token的奇数维度\n",
    "        \n",
    "        # -> (1, max_len, d_model) 方便批量操作\n",
    "        position_encoding = position_encoding.unsqueeze(0)\n",
    "        \n",
    "        # 定义一组参数self.position_encoding \n",
    "        # 模型训练时不会更新 即调用 optimizer.step() 后该组参数不会变化，只可人为地改变它们的值\n",
    "        # 但是保存模型时，该组参数又作为模型参数不可或缺的一部分被保存\n",
    "        self.register_buffer('position_encoding', position_encoding)\n",
    "        self.dropout = nn.Dropout(dropout)\n",
    "        \n",
    "    def forward(self, x):\n",
    "        # x: (batch_size, position , dim)\n",
    "        # 返回所有x.size(1)表示x的序列长度（可能含有pad）\n",
    "        # 广播机制：每个batch都进行同样操作\n",
    "        return self.dropout( x + self.position_encoding[:, : x.size(1) ] )\n",
    "    \n",
    "plt.figure(figsize=(15, 5))\n",
    "\n",
    "pe = PositionalEncoding(4, 0.1, 10)\n",
    "y = pe((torch.zeros(1, 10, 4)))\n",
    "# print(y.shape)\n",
    "\n",
    "# plt.plot(np.arange(1000), y[0, :, 3:7].data.numpy())\n",
    "# plt.legend([\"dim %d\"%p for p in [3,4,5,6]])\n",
    "\n",
    "y"
   ]
  },
  {
   "cell_type": "code",
   "execution_count": 100,
   "metadata": {},
   "outputs": [],
   "source": [
    "# def attention(query, key, value, mask=None, dropout=None):\n",
    "#     \"Compute 'Scaled Dot Product Attention'\"\n",
    "#     d_k = query.size(-1)\n",
    "#     scores = torch.matmul(query, key.transpose(-2, -1)) / math.sqrt(d_k)\n",
    "#     if mask is not None:\n",
    "#         scores = scores.masked_fill(mask == 0, -1e9)\n",
    "#     p_attn = F.softmax(scores, dim = -1)\n",
    "#     if dropout is not None:\n",
    "#         p_attn = dropout(p_attn)\n",
    "#     return torch.matmul(p_attn, value), p_attn"
   ]
  },
  {
   "cell_type": "code",
   "execution_count": 101,
   "metadata": {},
   "outputs": [],
   "source": [
    "def attention(query, key, value, mask=None, dropout=None):\n",
    "    # value,query,size : (batch_size, num_heads, seq_len, d_k) \n",
    "    # num_heads会用到多头注意力机制中\n",
    "    \n",
    "    d_k = query.size(-1) # 最后一维 表示向量维度大小\n",
    "    \n",
    "    # 计算相似分数\n",
    "    # key交换最后两个维度 实质上是进行转置\n",
    "    scores = torch.matmul(query, key.transpose(-2, -1)) / math.sqrt(d_k)\n",
    "    \n",
    "    if mask is not None:\n",
    "        # pytorch自带函数 满足第一个条件mask == 0时 赋值为：-1e9\n",
    "        scores = scores.masked_fill(mask == 0, -1e9)\n",
    "    \n",
    "    # 按最后一个维度去softmax\n",
    "    # score:(batch_size, num_heads, seq_len, seq_len) \n",
    "    # 每个token对其他所有token的分数\n",
    "    attention_weights = F.softmax(scores, dim=-1) \n",
    "    \n",
    "    if dropout is not None:\n",
    "        # 引入一点噪声\n",
    "        attention_weights = dropout(attention_weights)\n",
    "        \n",
    "    return torch.matmul(attention_weights, value), attention_weights"
   ]
  },
  {
   "cell_type": "code",
   "execution_count": 102,
   "metadata": {},
   "outputs": [
    {
     "name": "stdout",
     "output_type": "stream",
     "text": [
      "torch.Size([2, 1, 3, 3])\n",
      "torch.Size([2, 1, 3, 4])\n"
     ]
    },
    {
     "data": {
      "image/png": "[encoded data removed]",
      "text/plain": [
       "<Figure size 800x600 with 2 Axes>"
      ]
     },
     "metadata": {},
     "output_type": "display_data"
    }
   ],
   "source": [
    "# 创建一些测试数据\n",
    "# 这里假设每个输入的维度是 d_k = 4，序列长度为 3\n",
    "batch_size = 2\n",
    "num_heads = 1\n",
    "seq_len = 3\n",
    "d_k = 4\n",
    "\n",
    "# 生成随机的 query, key, value 张量\n",
    "query = torch.rand(batch_size, num_heads, seq_len, d_k)\n",
    "key = torch.rand(batch_size, num_heads, seq_len, d_k)\n",
    "value = torch.rand(batch_size, num_heads, seq_len, d_k)\n",
    "\n",
    "# 生成可选的 mask 张量\n",
    "mask = torch.ones(batch_size, num_heads, seq_len, seq_len)\n",
    "\n",
    "# 测试 attention 函数\n",
    "output, attention_weights = attention(query, key, value, mask)\n",
    "\n",
    "# 输出测试结果\n",
    "print(attention_weights.shape)\n",
    "print(output.shape)\n",
    "\n",
    "show_heatmaps(attention_weights)"
   ]
  },
  {
   "cell_type": "code",
   "execution_count": 103,
   "metadata": {},
   "outputs": [],
   "source": [
    "# def clones(module, N):\n",
    "#     return nn.ModuleList([copy.deepcopy(module) for _ in range(N)])\n",
    "\n",
    "# # 假设 MultiHeadedAttention 类已经定义\n",
    "# class MultiHeadedAttention(nn.Module):\n",
    "#     def __init__(self, h, d_model, dropout=0.1):\n",
    "#         super(MultiHeadedAttention, self).__init__()\n",
    "#         assert d_model % h == 0\n",
    "        \n",
    "#         self.d_k = d_model // h\n",
    "#         self.h = h\n",
    "#         self.linears = clones(nn.Linear(d_model, d_model), 4)\n",
    "#         self.attn = None\n",
    "#         self.dropout = nn.Dropout(p=dropout)\n",
    "        \n",
    "#     def forward(self, query, key, value, mask=None):\n",
    "#         if mask is not None:\n",
    "#             mask = mask.unsqueeze(1)\n",
    "\n",
    "#         nbatches = query.size(0)\n",
    "        \n",
    "#         # 切分成多头\n",
    "#         ## value,query,size : (batch_size, seq_len, d_model) \n",
    "#         ## l(x): (batch_size, seq_len, d_model) \n",
    "#         ## .view(nbatches, -1, self.h, self.d_k) -> (batch_size, seq_len, num_heads, d_k)\n",
    "#         ## .transpose(1, 2) -> (batch_size, num_heads, seq_len, d_k) 转置操作\n",
    "        \n",
    "#         # zip -> (linear0, query) (linear1, key) (linear2, value)\n",
    "#         # 最后一个linear没有被绑定\n",
    "        \n",
    "#         query, key, value = [\n",
    "#             l(x).view(nbatches, -1, self.h, self.d_k).transpose(1, 2)\n",
    "#             for l, x in zip(self.linears, (query, key, value))\n",
    "#         ]\n",
    "        \n",
    "#         # 求解注意力\n",
    "#         x, self.attn = attention(query, key, value, mask=mask, dropout=self.dropout)\n",
    "        \n",
    "#         # 此时x:(batch_size, num_heads, seq_len, d_model)\n",
    "#         # 转置回来 重新变成(batch_size, seq_len, num_heads, d_k)\n",
    "#         # 修正存储 保证数值一定是连续存储的 .contiguous()\n",
    "#         # 否则无法使用.view() -> (batch_size, seq_len , d_model)\n",
    "#         x = x.transpose(1, 2).contiguous().view(nbatches, -1, self.h * self.d_k)        \n",
    "        \n",
    "#         # 使用最后一个linear\n",
    "#         return self.linears[-1](x)\n"
   ]
  },
  {
   "cell_type": "code",
   "execution_count": null,
   "metadata": {},
   "outputs": [],
   "source": []
  },
  {
   "cell_type": "code",
   "execution_count": 104,
   "metadata": {},
   "outputs": [],
   "source": [
    "def clones(module, n):\n",
    "    # 深拷贝\n",
    "    return nn.ModuleList([copy.deepcopy(module) for _ in range(n)])\n",
    "\n",
    "class MultiHeadedAttention(nn.Module):\n",
    "    def __init__(self, h, d_model, dropout=0.1):\n",
    "        super(MultiHeadedAttention, self).__init__()\n",
    "        assert d_model % h == 0\n",
    "        self.h, self.d_k = h, d_model//h\n",
    "        self.dropout = nn.Dropout(dropout)\n",
    "        self.attn = None\n",
    "        self.linears = clones(nn.Linear(d_model, d_model), 4)\n",
    "    \n",
    "    def forward(self, query, key, value, mask=None):\n",
    "        if mask is not None:\n",
    "            mask = mask.unsqueeze(1)\n",
    "            \n",
    "        batch_size = query.size(0)\n",
    "\n",
    "        # 切分成多头\n",
    "        ## value,query,size : (batch_size, seq_len, d_model) \n",
    "        ## linear(x): (batch_size, seq_len, d_model) \n",
    "        ## .view(batche_size, -1, self.h, self.d_k) -> (batch_size, seq_len, num_heads, d_k)\n",
    "        ## .transpose(1, 2) -> (batch_size, num_heads, seq_len, d_k) 转置操作\n",
    "        \n",
    "        # zip -> (linear0, query) (linear1, key) (linear2, value)\n",
    "        # 最后一个linear没有被绑定\n",
    "        \n",
    "        query, key, value = [\n",
    "            linear(x).view(batch_size, -1, self.h, self.d_k).transpose(1, 2)\n",
    "            for linear, x in zip(self.linears, (query, key, value))\n",
    "        ]\n",
    "        \n",
    "        # 此时x:(batch_size, num_heads, seq_len, d_model)\n",
    "        # 转置回来 重新变成(batch_size, seq_len, num_heads, d_k)\n",
    "        # 修正存储 保证数值一定是连续存储的 .contiguous()\n",
    "        # 否则无法使用.view() -> (batch_size, seq_len , d_model)\n",
    "        x, self.attn = attention(query, key, value, mask=mask, dropout=self.dropout)\n",
    "        x = x.transpose(1, 2).contiguous().view(batch_size, -1, self.d_k*self.h)\n",
    "        return self.linears[-1](x)"
   ]
  },
  {
   "cell_type": "code",
   "execution_count": 105,
   "metadata": {},
   "outputs": [
    {
     "name": "stdout",
     "output_type": "stream",
     "text": [
      "Output shape: torch.Size([2, 5, 16])\n",
      "Test passed with mask!\n"
     ]
    }
   ],
   "source": [
    "\n",
    "# 测试 MultiHeadedAttention\n",
    "def test_multi_headed_attention_with_mask():\n",
    "    # 定义一些参数\n",
    "    batch_size = 2\n",
    "    seq_len = 5\n",
    "    d_model = 16\n",
    "    h = 4\n",
    "    \n",
    "    # 随机生成一些输入张量\n",
    "    query = torch.rand(batch_size, seq_len, d_model)\n",
    "    key = torch.rand(batch_size, seq_len, d_model)\n",
    "    value = torch.rand(batch_size, seq_len, d_model)\n",
    "    \n",
    "    # 创建一个 mask，假设要忽略序列中的最后一个时间步\n",
    "    mask = torch.ones(batch_size, num_heads, seq_len)\n",
    "    mask[:, -1] = 0  # 忽略最后一个时间步\n",
    "\n",
    "    # 创建 MultiHeadedAttention 实例\n",
    "    mha = MultiHeadedAttention(h, d_model)\n",
    "    \n",
    "    # 前向传播\n",
    "    output = mha(query, key, value, mask=mask)\n",
    "    \n",
    "    # 打印输出的形状\n",
    "    print(\"Output shape:\", output.shape)\n",
    "    \n",
    "    # 检查输出的维度是否符合预期\n",
    "    assert output.shape == (batch_size, seq_len, d_model), \"Output shape mismatch!\"\n",
    "    \n",
    "    print(\"Test passed with mask!\")\n",
    "\n",
    "# 运行测试\n",
    "test_multi_headed_attention_with_mask()\n"
   ]
  },
  {
   "cell_type": "code",
   "execution_count": 106,
   "metadata": {},
   "outputs": [
    {
     "name": "stdout",
     "output_type": "stream",
     "text": [
      "torch.Size([5, 1000, 512])\n"
     ]
    }
   ],
   "source": [
    "class PositionwiseFeedForward(nn.Module):\n",
    "    def __init__(self, d_model, d_ff, dropout=0.1):\n",
    "        super(PositionwiseFeedForward, self).__init__()\n",
    "        self.ffn = nn.Sequential(\n",
    "            nn.Linear(d_model, d_ff),\n",
    "            nn.ReLU(),\n",
    "            nn.Dropout(dropout),\n",
    "            nn.Linear(d_ff, d_model) # Dropout不能放在最后\n",
    "        )\n",
    "    def forward(self, x):\n",
    "        return self.ffn(x)\n",
    "    \n",
    "temp = PositionwiseFeedForward(512, 2048)\n",
    "x = torch.rand(5,1000, 512)\n",
    "x = temp(x)\n",
    "print(x.shape)\n"
   ]
  },
  {
   "cell_type": "code",
   "execution_count": 107,
   "metadata": {},
   "outputs": [],
   "source": [
    "class LayerNorm(nn.Module):\n",
    "    def __init__(self, dim, eps=1e-6):\n",
    "        super(LayerNorm, self).__init__()\n",
    "        self.a = nn.Parameter(torch.ones(dim))\n",
    "        self.b = nn.Parameter(torch.zeros(dim))\n",
    "        self.eps = eps\n",
    "    def forward(self, x):\n",
    "        mean = x.mean(dim=-1, keepdim=True) # 求出最后一维的均值\n",
    "        std = x.std(dim=-1, keepdim=True) # 求出最后一维的方差\n",
    "        \n",
    "        # keepdim 把最后一个维度的所有数据替换成一个数字：计算结果\n",
    "        # 其他维度不变，方便后续的广播\n",
    "        \n",
    "        # 防止除以0\n",
    "        return self.a * (x - mean) / (std + self.eps) + self.b"
   ]
  },
  {
   "cell_type": "code",
   "execution_count": 108,
   "metadata": {},
   "outputs": [
    {
     "name": "stdout",
     "output_type": "stream",
     "text": [
      "Input shape: torch.Size([5, 1000, 512])\n",
      "Output shape: torch.Size([2, 10, 512])\n"
     ]
    }
   ],
   "source": [
    "d_model = 512\n",
    "layer_norm = LayerNorm(d_model)\n",
    "batch_size = 2\n",
    "seq_len = 10\n",
    "output = layer_norm( torch.randn(batch_size, seq_len, d_model) )\n",
    "print(\"Input shape:\", x.shape)\n",
    "print(\"Output shape:\", output.shape)"
   ]
  },
  {
   "cell_type": "code",
   "execution_count": 109,
   "metadata": {},
   "outputs": [],
   "source": [
    "class SublayerConnection(nn.Module):\n",
    "    def __init__(self, dim, dropout):\n",
    "        super(SublayerConnection, self).__init__()\n",
    "        self.norm = LayerNorm(dim)\n",
    "        self.dropout = nn.Dropout(dropout)\n",
    "    def forward(self, x, sublayer):\n",
    "        return x + self.dropout(sublayer( self.norm(x) ))\n",
    "    "
   ]
  },
  {
   "cell_type": "code",
   "execution_count": 110,
   "metadata": {},
   "outputs": [],
   "source": [
    "class EncoderLayer(nn.Module):\n",
    "    def __init__(self, d_model, self_attention, feed_forward, dropout):\n",
    "        super(EncoderLayer, self).__init__()\n",
    "        self.self_attention = self_attention # encoder使用的自注意力机制\n",
    "        self.feed_forward = feed_forward\n",
    "        self.sublayer = clones( SublayerConnection(d_model, dropout), 2) # encoder两次残差归一化层\n",
    "        self.d_model = d_model\n",
    "        \n",
    "    def forward(self, x, mask):\n",
    "        # 通过自注意力机制\n",
    "        # sublayer.forward传入(x,func)两个参数 第二个参数要求是函数\n",
    "        # 使用lambda封装 \n",
    "        # x同时作为query key value\n",
    "        x = self.sublayer[0](x, lambda x: self.self_attention(x,x,x,mask) )\n",
    "        \n",
    "        # 通过Feed-Forward\n",
    "        return self.sublayer[-1](x, self.feed_forward)\n",
    "        "
   ]
  },
  {
   "cell_type": "code",
   "execution_count": 111,
   "metadata": {},
   "outputs": [],
   "source": [
    "class Encoder(nn.Module):\n",
    "\n",
    "    def __init__(self, layer, N):\n",
    "        super(Encoder, self).__init__()\n",
    "        self.layers = clones(layer, N) # layer层重复N次\n",
    "        self.norm = LayerNorm(layer.d_model)\n",
    "        \n",
    "    def forward(self, x, mask):\n",
    "        # 滚动N遍encoder\n",
    "        for layer in self.layers:\n",
    "            x = layer(x, mask)\n",
    "        return self.norm(x)"
   ]
  },
  {
   "cell_type": "code",
   "execution_count": 112,
   "metadata": {},
   "outputs": [],
   "source": [
    "class DecoderLayer(nn.Module):\n",
    "    def __init__(self, d_model, self_attn, src_attn, feed_forward, dropout):\n",
    "        super(DecoderLayer, self).__init__()\n",
    "        self.d_model = d_model \n",
    "        self.self_attn = self_attn\n",
    "        self.src_attn = src_attn\n",
    "        self.feed_forward = feed_forward\n",
    "        self.sublayer = clones(SublayerConnection(d_model, dropout), 3)\n",
    " \n",
    "    def forward(self, x, memory, src_mask, tgt_mask):\n",
    "        m = memory # encoder的输出\n",
    "        x = self.sublayer[0](x, lambda x: self.self_attn(x, x, x, tgt_mask))\n",
    "        x = self.sublayer[1](x, lambda x: self.src_attn(x, m, m, src_mask)) # 结合encoder\n",
    "        return self.sublayer[2](x, self.feed_forward)"
   ]
  },
  {
   "cell_type": "code",
   "execution_count": 113,
   "metadata": {},
   "outputs": [],
   "source": [
    "class Decoder(nn.Module):\n",
    "    def __init__(self, layer, N):\n",
    "        super(Decoder, self).__init__()\n",
    "        self.layers = clones(layer, N)\n",
    "        self.norm = LayerNorm(layer.d_model)\n",
    "        \n",
    "    def forward(self, x, memory, src_mask, tgt_mask):\n",
    "        for layer in self.layers:\n",
    "            x = layer(x, memory, src_mask, tgt_mask)\n",
    "        return self.norm(x)"
   ]
  },
  {
   "cell_type": "code",
   "execution_count": 114,
   "metadata": {},
   "outputs": [],
   "source": [
    "def subsequent_mask(size):\n",
    "    \"Mask out subsequent positions.\"\n",
    "    attn_shape = (1, size, size)\n",
    "    subsequent_mask = np.triu(np.ones(attn_shape), k=1).astype('uint8')\n",
    "    return torch.from_numpy(subsequent_mask) == 0"
   ]
  },
  {
   "cell_type": "code",
   "execution_count": 115,
   "metadata": {},
   "outputs": [],
   "source": [
    "class Generator(nn.Module):\n",
    "    def __init__(self, d_model, vocab):\n",
    "        super(Generator, self).__init__()\n",
    "        self.proj = nn.Linear(d_model, vocab)\n",
    "\n",
    "    def forward(self, x):\n",
    "        # 对数 softmax 以防止数值不稳定性\n",
    "        # 返回概率分布\n",
    "        return F.log_softmax(self.proj(x), dim=-1)"
   ]
  },
  {
   "cell_type": "code",
   "execution_count": 116,
   "metadata": {},
   "outputs": [],
   "source": [
    "\n",
    "class EncoderDecoder(nn.Module):\n",
    "\n",
    "    def __init__(self, encoder, decoder, src_embed, tgt_embed, generator):\n",
    "        super(EncoderDecoder, self).__init__()\n",
    "        self.encoder = encoder\n",
    "        self.decoder = decoder\n",
    "        self.src_embed = src_embed \n",
    "        self.tgt_embed = tgt_embed\n",
    "        self.generator = generator\n",
    "   \n",
    "    def encode(self, src, src_mask):\n",
    "        return self.encoder(self.src_embed(src), src_mask)\n",
    "    \n",
    "    def decode(self, memory, src_mask, tgt, tgt_mask):\n",
    "        return self.decoder(self.tgt_embed(tgt), memory, src_mask, tgt_mask)\n",
    "         \n",
    "    def forward(self, src, tgt, src_mask, tgt_mask):\n",
    "        return self.decode(self.encode(src, src_mask), src_mask, tgt, tgt_mask)\n",
    "    "
   ]
  },
  {
   "cell_type": "code",
   "execution_count": 117,
   "metadata": {},
   "outputs": [
    {
     "name": "stderr",
     "output_type": "stream",
     "text": [
      "/tmp/ipykernel_3730/2280125763.py:16: UserWarning: nn.init.xavier_uniform is now deprecated in favor of nn.init.xavier_uniform_.\n",
      "  nn.init.xavier_uniform(p)\n"
     ]
    }
   ],
   "source": [
    "def make_model(src_vocab, tgt_vocab, N=6, d_model=512, d_ff=2048, h=8, dropout=0.1):\n",
    "    c = copy.deepcopy\n",
    "    attn = MultiHeadedAttention(h, d_model)\n",
    "    ff = PositionwiseFeedForward(d_model, d_ff, dropout)\n",
    "    position = PositionalEncoding(d_model, dropout)\n",
    "    \n",
    "    model = EncoderDecoder(\n",
    "        Encoder(EncoderLayer(d_model, c(attn), c(ff), dropout), N),\n",
    "        Decoder(DecoderLayer(d_model, c(attn), c(attn), \n",
    "                             c(ff), dropout), N),\n",
    "        nn.Sequential(Embeddings(d_model, src_vocab), c(position)),\n",
    "        nn.Sequential(Embeddings(d_model, tgt_vocab), c(position)),\n",
    "        Generator(d_model, tgt_vocab))\n",
    "    for p in model.parameters():\n",
    "        if p.dim() > 1:\n",
    "            nn.init.xavier_uniform(p)\n",
    "    return model\n",
    "tmp_model = make_model(10, 10, 2)"
   ]
  }
 ],
 "metadata": {
  "kernelspec": {
   "display_name": "torch",
   "language": "python",
   "name": "python3"
  },
  "language_info": {
   "codemirror_mode": {
    "name": "ipython",
    "version": 3
   },
   "file_extension": ".py",
   "mimetype": "text/x-python",
   "name": "python",
   "nbconvert_exporter": "python",
   "pygments_lexer": "ipython3",
   "version": "3.10.14"
  }
 },
 "nbformat": 4,
 "nbformat_minor": 2
}
