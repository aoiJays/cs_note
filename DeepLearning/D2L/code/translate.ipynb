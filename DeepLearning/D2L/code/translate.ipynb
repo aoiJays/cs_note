{
 "cells": [
  {
   "cell_type": "code",
   "execution_count": 137,
   "metadata": {},
   "outputs": [],
   "source": [
    "import torch\n",
    "from torch.utils.data import Dataset, DataLoader"
   ]
  },
  {
   "cell_type": "code",
   "execution_count": 138,
   "metadata": {},
   "outputs": [
    {
     "name": "stdout",
     "output_type": "stream",
     "text": [
      "[['go', '.'], ['hi', '.'], ['run', '!'], ['run', '!'], ['who', '?']]\n",
      "[['va', '!'], ['salut', '!'], ['cours', '!'], ['courez', '!'], ['qui', '?']]\n"
     ]
    }
   ],
   "source": [
    "def filter(s):\n",
    "    out = []\n",
    "    s = s.strip()\n",
    "    for i,char in enumerate(s): \n",
    "        if i > 0 and char != ' ':\n",
    "            if (not s[i-1].isalpha()) and char.isalpha(): \n",
    "                out.append(' ' +  char)\n",
    "            elif char in set('.,?!') : out.append(' ' + char)\n",
    "            else: out.append(char)\n",
    "        elif char != ' ': out.append(char)\n",
    "    return ''.join(out)  \n",
    "\n",
    "def read_data_fra(num_examples=None):\n",
    "\n",
    "    with open('data/fra.txt') as f:\n",
    "        # 替换字符\n",
    "        source_txt = f.read().replace('\\u202f', ' ').replace('\\xa0', ' ').lower()\n",
    "        lines = source_txt.split('\\n') # 切分单个数据\n",
    "        \n",
    "        # 每个词元前后添加空格\n",
    "        lines = [filter(line) for line in lines]\n",
    "        source, target = [], []\n",
    "        \n",
    "        for i, line in enumerate(lines):\n",
    "            \n",
    "            # 自定义数量\n",
    "            if num_examples and i > num_examples:\n",
    "                break\n",
    "            \n",
    "            part = line.split('\\t')\n",
    "            if len(part) == 2:\n",
    "                source.append(part[0].strip().split(' '))\n",
    "                target.append(part[1].strip().split(' '))\n",
    "                \n",
    "        return source, target\n",
    "                \n",
    "        \n",
    "source, target = read_data_fra()\n",
    "print( source[:5])\n",
    "print( target[:5])\n"
   ]
  },
  {
   "cell_type": "code",
   "execution_count": 139,
   "metadata": {},
   "outputs": [
    {
     "data": {
      "text/plain": [
       "'go away . !\\t e'"
      ]
     },
     "execution_count": 139,
     "metadata": {},
     "output_type": "execute_result"
    }
   ],
   "source": [
    "def filter(s):\n",
    "    out = []\n",
    "    s = s.strip()\n",
    "    for i,char in enumerate(s): \n",
    "        if i > 0 and char != ' ':\n",
    "            if (not s[i-1].isalpha()) and char.isalpha(): \n",
    "                out.append(' ' +  char)\n",
    "            elif char in set('.,?!') : out.append(' ' + char)\n",
    "            else: out.append(char)\n",
    "        elif char != ' ': out.append(char)\n",
    "    return ''.join(out)  \n",
    "    return out\n",
    "\n",
    "filter(' go away.!   \\t e ')"
   ]
  },
  {
   "cell_type": "code",
   "execution_count": 140,
   "metadata": {},
   "outputs": [
    {
     "data": {
      "image/png": "[encoded data removed]",
      "text/plain": [
       "<Figure size 640x480 with 1 Axes>"
      ]
     },
     "metadata": {},
     "output_type": "display_data"
    }
   ],
   "source": [
    "import matplotlib.pyplot as plt\n",
    "from collections import Counter\n",
    "\n",
    "source_counts = Counter([len(sentence) for sentence in source])\n",
    "target_counts = Counter([len(sentence) for sentence in target])\n",
    "\n",
    "# 计算每个柱子的宽度\n",
    "width = 0.35\n",
    "\n",
    "# 绘制直方图\n",
    "plt.bar(source_counts.keys(), source_counts.values(), width=width, color='blue', label='Source')\n",
    "plt.bar([x + width for x in target_counts.keys()], target_counts.values(), width=width, color='red', label='Target')\n",
    "\n",
    "# 添加图例和标签\n",
    "plt.legend()\n",
    "plt.xlabel('Words')\n",
    "plt.ylabel('Counts')\n",
    "\n",
    "# 显示图形\n",
    "plt.show()\n"
   ]
  },
  {
   "cell_type": "code",
   "execution_count": 141,
   "metadata": {},
   "outputs": [
    {
     "data": {
      "text/plain": [
       "9983"
      ]
     },
     "execution_count": 141,
     "metadata": {},
     "output_type": "execute_result"
    }
   ],
   "source": [
    "import collections\n",
    "\n",
    "def count_corpus(tokens):  #@save\n",
    "    \"\"\"统计词元的频率\"\"\"\n",
    "    # 这里的tokens是1D列表或2D列表\n",
    "    if len(tokens) == 0 or isinstance(tokens[0], list):\n",
    "        # 将2D词元列表展平成一个1D列表\n",
    "        tokens = [token for line in tokens for token in line]\n",
    "    # 使用collections.Counter统计词元的频率\n",
    "    return collections.Counter(tokens)\n",
    "\n",
    "class Vocab:  #@save\n",
    "    \"\"\"文本词表\"\"\"\n",
    "    def __init__(self, tokens=None, min_freq=0, reserved_tokens=None):\n",
    "        # 如果没有提供词元列表，则使用空列表\n",
    "        if tokens is None:\n",
    "            tokens = []\n",
    "        # 如果没有提供保留词元列表，则使用空列表\n",
    "        if reserved_tokens is None:\n",
    "            reserved_tokens = []\n",
    "        # 统计词元的频率并按频率降序排序\n",
    "        counter = count_corpus(tokens)\n",
    "        self._token_freqs = sorted(counter.items(), key=lambda x: x[1],\n",
    "                                   reverse=True)\n",
    "        # 初始化词表，未知词元的索引为0\n",
    "        self.idx_to_token = ['<unk>'] + reserved_tokens\n",
    "        # 创建从词元到索引的映射字典\n",
    "        self.token_to_idx = {token: idx\n",
    "                             for idx, token in enumerate(self.idx_to_token)}\n",
    "        # 遍历按频率排序后的词元和对应频率\n",
    "        for token, freq in self._token_freqs:\n",
    "            # 如果词元的频率小于最小频率，则停止添加\n",
    "            if freq < min_freq:\n",
    "                break\n",
    "            # 如果词元不在词表中，则将其添加到词表并更新映射字典\n",
    "            if token not in self.token_to_idx:\n",
    "                self.idx_to_token.append(token)\n",
    "                self.token_to_idx[token] = len(self.idx_to_token) - 1\n",
    "\n",
    "    def __len__(self):\n",
    "        # 返回词表的长度\n",
    "        return len(self.idx_to_token)\n",
    "\n",
    "    def __getitem__(self, tokens):\n",
    "        # 如果输入的是单个词元，返回其对应的索引\n",
    "        if not isinstance(tokens, (list, tuple)): #不是列表或元组\n",
    "            return self.token_to_idx.get(tokens, self.unk) # 字典中不存则自动返回unk\n",
    "        # 如果输入的是一个词元列表，递归获取每个词元的索引\n",
    "        return [self.__getitem__(token) for token in tokens]\n",
    "\n",
    "    def to_tokens(self, indices):\n",
    "        # 如果输入的是单个索引，返回其对应的词元\n",
    "        if not isinstance(indices, (list, tuple)):\n",
    "            return self.idx_to_token[indices]\n",
    "        # 如果输入的是一个索引列表，递归获取每个索引对应的词元\n",
    "        return [self.idx_to_token[index] for index in indices]\n",
    "\n",
    "    @property\n",
    "    def unk(self):  # 未知词元的索引为0\n",
    "        # 返回未知词元的索引\n",
    "        return 0\n",
    "\n",
    "    @property\n",
    "    def token_freqs(self):\n",
    "        # 返回词元及其对应频率的列表\n",
    "        return self._token_freqs\n",
    "    \n",
    "# 将出现次数少于2的词元过滤为unk\n",
    "# 引入填充词元<pad> 开始词元 结束词元\n",
    "src_vocab = Vocab(source, min_freq=2, reserved_tokens=['<pad>', '<bos>', '<eos>'])\n",
    "len(src_vocab)\n"
   ]
  },
  {
   "cell_type": "code",
   "execution_count": 142,
   "metadata": {},
   "outputs": [
    {
     "data": {
      "text/plain": [
       "[51, 4, 1, 1, 1, 1, 1, 1, 1, 1]"
      ]
     },
     "execution_count": 142,
     "metadata": {},
     "output_type": "execute_result"
    }
   ],
   "source": [
    "def truncate_pad(src, padding_token, num_steps):\n",
    "    # 超过长度则截断\n",
    "    if (len(src) > num_steps): return src[:num_steps]\n",
    "    \n",
    "    # 长度不足 则补充<pad>\n",
    "    return src + [padding_token] * (num_steps - len(src))\n",
    "\n",
    "truncate_pad(src_vocab[source[0]], src_vocab['<pad>'], 10)\n"
   ]
  },
  {
   "cell_type": "code",
   "execution_count": 147,
   "metadata": {},
   "outputs": [],
   "source": [
    "def build_array(tokens, vocab, num_steps):\n",
    "    # 将词元列表转换为索引列表\n",
    "    tokens = [vocab[token] for token in tokens]\n",
    "    # 每个序列最后添加一个eos\n",
    "    tokens = [token + [vocab['<eos>']] for token in tokens]\n",
    "    \n",
    "    # 将处理后的定长序列构造为张量\n",
    "    array = torch.tensor([\n",
    "        truncate_pad(token, vocab['<pad>'], num_steps)\n",
    "        for token in tokens\n",
    "    ], dtype=torch.float32)\n",
    "    \n",
    "    # 统计非pad的词元数量\n",
    "    valid_len = (array != vocab['<pad>'] ).type(torch.int32).sum(1)\n",
    "    return array, valid_len"
   ]
  },
  {
   "cell_type": "code",
   "execution_count": 152,
   "metadata": {},
   "outputs": [],
   "source": [
    "class fraDataset(Dataset):\n",
    "    def __init__(self, src_array, src_valid_len, tgt_array, tgt_valid_len):\n",
    "        self.src_array = src_array\n",
    "        self.src_valid_len = src_valid_len\n",
    "        self.tgt_array = tgt_array\n",
    "        self.tgt_valid_len = tgt_valid_len\n",
    "\n",
    "    def __len__(self):\n",
    "        return len(self.src_array)\n",
    "\n",
    "    def __getitem__(self, idx):\n",
    "        X = self.src_array[idx]\n",
    "        X_valid_len = self.src_valid_len[idx]\n",
    "        Y = self.tgt_array[idx]\n",
    "        Y_valid_len = self.tgt_valid_len[idx]\n",
    "        \n",
    "        return X, X_valid_len, Y, Y_valid_len"
   ]
  },
  {
   "cell_type": "code",
   "execution_count": 155,
   "metadata": {},
   "outputs": [
    {
     "name": "stdout",
     "output_type": "stream",
     "text": [
      "torch.Size([167130, 8]) torch.Size([167130, 8])\n",
      "torch.Size([167130]) torch.Size([167130])\n"
     ]
    }
   ],
   "source": [
    "def load_data(batch_size, num_steps, num_examples=600):\n",
    "    source, target = read_data_fra()\n",
    "    \n",
    "    # 构造词表\n",
    "    src_vocab = Vocab(source, min_freq=2, reserved_tokens=['<pad>', '<bos>', '<eos>'])\n",
    "    tgt_vocab = Vocab(target, min_freq=2, reserved_tokens=['<pad>', '<bos>', '<eos>'])\n",
    "    \n",
    "    # 构造训练数据\n",
    "    src_array, src_valid_len = build_array(source, src_vocab, num_steps)\n",
    "    tgt_array, tgt_valid_len = build_array(target, tgt_vocab, num_steps)\n",
    "\n",
    "    print( src_array.shape , tgt_array.shape )\n",
    "    print( src_valid_len.shape , tgt_valid_len.shape )\n",
    "    # 构造数据迭代器\n",
    "    data_arrays = (src_array, src_valid_len, tgt_array, tgt_valid_len)\n",
    "    dataset = fraDataset(*data_arrays)\n",
    "    return DataLoader(dataset, batch_size, shuffle=True), src_vocab, tgt_vocab\n",
    "\n",
    "train_iter, src_vocab, tgt_vocab = load_data(batch_size=2, num_steps=8)\n",
    "\n"
   ]
  },
  {
   "cell_type": "code",
   "execution_count": 171,
   "metadata": {},
   "outputs": [
    {
     "name": "stdout",
     "output_type": "stream",
     "text": [
      "X: tensor([[  66,   12,   77, 2545,    4,    3,    1,    1],\n",
      "        [ 454,   74,   57,  491,   23,  109,    7,  265]], dtype=torch.int32)\n",
      "X的有效长度: tensor([6, 8])\n",
      "Y: tensor([[  12,   22,   43,   20,  321, 4770,    4,    3],\n",
      "        [3050,    9,    6,   44, 2765,   92,   80,   13]], dtype=torch.int32)\n",
      "Y的有效长度: tensor([8, 8])\n"
     ]
    }
   ],
   "source": [
    "for X, X_valid_len, Y, Y_valid_len in train_iter:\n",
    "    print('X:', X.type(torch.int32))\n",
    "    print('X的有效长度:', X_valid_len)\n",
    "    print('Y:', Y.type(torch.int32))\n",
    "    print('Y的有效长度:', Y_valid_len)\n",
    "    break  # 只打印第一个批次的内容\n"
   ]
  }
 ],
 "metadata": {
  "kernelspec": {
   "display_name": "pytorch-learn",
   "language": "python",
   "name": "python3"
  },
  "language_info": {
   "codemirror_mode": {
    "name": "ipython",
    "version": 3
   },
   "file_extension": ".py",
   "mimetype": "text/x-python",
   "name": "python",
   "nbconvert_exporter": "python",
   "pygments_lexer": "ipython3",
   "version": "3.8.19"
  }
 },
 "nbformat": 4,
 "nbformat_minor": 2
}
