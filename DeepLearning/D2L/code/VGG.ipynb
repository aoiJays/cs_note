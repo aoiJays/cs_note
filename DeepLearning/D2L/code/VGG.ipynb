{
 "cells": [
  {
   "cell_type": "code",
   "execution_count": 1,
   "metadata": {},
   "outputs": [],
   "source": [
    "import torch\n",
    "from torch import nn\n",
    "from torchvision import datasets, transforms\n"
   ]
  },
  {
   "cell_type": "code",
   "execution_count": 9,
   "metadata": {},
   "outputs": [],
   "source": [
    "\n",
    "class VGG(nn.Module):\n",
    "    def vgg_block(self, num_convs, in_channels, out_channels):\n",
    "        layer = []\n",
    "\n",
    "        # 卷积层重复\n",
    "        for i in range(num_convs):\n",
    "            layer.append( nn.Conv2d(in_channels, out_channels, kernel_size=3, padding=1 ))\n",
    "            layer.append( nn.ReLU() )\n",
    "            in_channels = out_channels\n",
    "\n",
    "        # 添加池化层\n",
    "        layer.append( nn.MaxPool2d(kernel_size=2, stride=2) )\n",
    "\n",
    "        return nn.Sequential( * layer )\n",
    "\n",
    "\n",
    "    def vgg_net( self, conv_arch ):\n",
    "\n",
    "        block_list = []\n",
    "\n",
    "        in_channels = 1\n",
    "        for num_convs, out_channels in conv_arch:\n",
    "\n",
    "            # 依次添加VGG块\n",
    "            block_list.append( self.vgg_block(num_convs, in_channels, out_channels) )\n",
    "            in_channels = out_channels\n",
    "\n",
    "        # MLP 部分\n",
    "        block_list.append(\n",
    "            nn.Sequential(\n",
    "                nn.Flatten(),\n",
    "                nn.Linear(out_channels * 7 * 7, 4096), nn.ReLU(), nn.Dropout(0.5), \n",
    "                nn.Linear(4096, 4096), nn.ReLU(), nn.Dropout(0.5),\\\n",
    "                nn.Linear(4096, 10))\n",
    "        )\n",
    "\n",
    "        return nn.Sequential( * block_list )\n",
    "    \n",
    "    def __init__(self, conv_arch ) -> None:\n",
    "\n",
    "        super().__init__()\n",
    "        self.net = self.vgg_net(conv_arch)\n",
    "\n",
    "    def forward(self, x):\n",
    "        x = self.net(x)\n",
    "        return x\n",
    "\n",
    "    "
   ]
  },
  {
   "cell_type": "code",
   "execution_count": 3,
   "metadata": {},
   "outputs": [
    {
     "name": "stdout",
     "output_type": "stream",
     "text": [
      "train size = 60000\n",
      "test size = 10000\n"
     ]
    }
   ],
   "source": [
    "import torch.utils\n",
    "import torch.utils.data\n",
    "from torch.utils.data import DataLoader\n",
    "\n",
    "trans = transforms.Compose([\n",
    "    transforms.Resize((224, 224)),\n",
    "    transforms.ToTensor()\n",
    "])\n",
    "\n",
    "# 加载数据集\n",
    "train_dataset = datasets.FashionMNIST(root=\"./data\", train=True,\n",
    "                                                  transform=trans, download=True)\n",
    "test_dataset = datasets.FashionMNIST(root=\"./data\", train=False,\n",
    "                                                 transform=trans, download=True)\n",
    "\n",
    "print( f'train size = {len(train_dataset)}' )\n",
    "print( f'test size = {len(test_dataset)}' )\n",
    "\n",
    "\n",
    "batch_size = 128\n",
    "train_loader = torch.utils.data.DataLoader(train_dataset, batch_size=batch_size, shuffle=True)\n",
    "test_loader = torch.utils.data.DataLoader(test_dataset, batch_size=batch_size, shuffle=False)"
   ]
  },
  {
   "cell_type": "code",
   "execution_count": 8,
   "metadata": {},
   "outputs": [],
   "source": [
    "device = 'cuda' if torch.cuda.is_available() else 'cpu'\n",
    "# device = 'cpu'\n",
    "\n",
    "# (num_conv, out_channels), (num_conv, out_channels),(num_conv, out_channels) \n",
    "conv_arch = ((1, 16), (1, 32), (2, 64), (2, 128), (2, 128))\n",
    "\n",
    "model = VGG(conv_arch).to(device)\n",
    "loss_fn = nn.CrossEntropyLoss()\n",
    "optimizer = torch.optim.Adam(model.parameters(), lr=0.003)"
   ]
  },
  {
   "cell_type": "code",
   "execution_count": 5,
   "metadata": {},
   "outputs": [],
   "source": [
    "def training(dataloader, model, loss_fn, optimizer):\n",
    "    \n",
    "    model.train()\n",
    "\n",
    "    loss, correct= 0.0, 0.0\n",
    "    n = 0\n",
    "\n",
    "    for X,y in dataloader:\n",
    "    \n",
    "        X,y = X.to(device), y.to(device)\n",
    "        output = model(X)\n",
    "\n",
    "        cur_loss = loss_fn(output, y)\n",
    "    \n",
    "        _, pred = torch.max(output, axis = 1)\n",
    "    \n",
    "        optimizer.zero_grad()\n",
    "        cur_loss.backward()\n",
    "        optimizer.step()\n",
    "\n",
    "        loss += cur_loss * len(y)\n",
    "        correct += torch.sum(pred==y).item()\n",
    "        n += len(y)\n",
    "    return loss / n, correct / n\n"
   ]
  },
  {
   "cell_type": "code",
   "execution_count": 6,
   "metadata": {},
   "outputs": [],
   "source": [
    "def val(dataloader, model, loss_fn):\n",
    "    \n",
    "    model.eval()\n",
    "\n",
    "    with torch.no_grad():\n",
    "\n",
    "        loss, correct= 0.0, 0.0\n",
    "        n = 0 \n",
    "\n",
    "        for X,y in dataloader:\n",
    "\n",
    "            X,y = X.to(device), y.to(device)\n",
    "            output = model(X)\n",
    "            _, pred = torch.max(output, axis = 1)\n",
    "            \n",
    "            cur_loss = loss_fn(output, y)\n",
    "            correct += torch.sum(pred==y).item()\n",
    "            loss += cur_loss * len(y)\n",
    "            n += len(y)\n",
    "            \n",
    "    return loss/n, correct/n"
   ]
  },
  {
   "cell_type": "code",
   "execution_count": 7,
   "metadata": {},
   "outputs": [
    {
     "ename": "KeyboardInterrupt",
     "evalue": "",
     "output_type": "error",
     "traceback": [
      "\u001b[0;31m---------------------------------------------------------------------------\u001b[0m",
      "\u001b[0;31mKeyboardInterrupt\u001b[0m                         Traceback (most recent call last)",
      "Cell \u001b[0;32mIn[7], line 8\u001b[0m\n\u001b[1;32m      4\u001b[0m params \u001b[38;5;241m=\u001b[39m model\u001b[38;5;241m.\u001b[39mstate_dict()\n\u001b[1;32m      6\u001b[0m \u001b[38;5;28;01mfor\u001b[39;00m epoch \u001b[38;5;129;01min\u001b[39;00m \u001b[38;5;28mrange\u001b[39m(epochs):\n\u001b[0;32m----> 8\u001b[0m     loss, acc \u001b[38;5;241m=\u001b[39m \u001b[43mtraining\u001b[49m\u001b[43m(\u001b[49m\u001b[43mtrain_loader\u001b[49m\u001b[43m,\u001b[49m\u001b[43m \u001b[49m\u001b[43mmodel\u001b[49m\u001b[43m,\u001b[49m\u001b[43m \u001b[49m\u001b[43mloss_fn\u001b[49m\u001b[43m,\u001b[49m\u001b[43m \u001b[49m\u001b[43moptimizer\u001b[49m\u001b[43m)\u001b[49m\n\u001b[1;32m      9\u001b[0m     \u001b[38;5;28mprint\u001b[39m(\u001b[38;5;124mf\u001b[39m\u001b[38;5;124m'\u001b[39m\u001b[38;5;124mepoch \u001b[39m\u001b[38;5;132;01m{\u001b[39;00mepoch\u001b[38;5;250m \u001b[39m\u001b[38;5;241m+\u001b[39m\u001b[38;5;250m \u001b[39m\u001b[38;5;241m1\u001b[39m\u001b[38;5;132;01m}\u001b[39;00m\u001b[38;5;124m/\u001b[39m\u001b[38;5;132;01m{\u001b[39;00mepochs\u001b[38;5;132;01m}\u001b[39;00m\u001b[38;5;124m: loss = \u001b[39m\u001b[38;5;132;01m{\u001b[39;00mloss\u001b[38;5;132;01m}\u001b[39;00m\u001b[38;5;124m acc = \u001b[39m\u001b[38;5;132;01m{\u001b[39;00macc\u001b[38;5;132;01m}\u001b[39;00m\u001b[38;5;124m'\u001b[39m)\n\u001b[1;32m     10\u001b[0m     loss, acc \u001b[38;5;241m=\u001b[39m val(test_loader, model, loss_fn)\n",
      "Cell \u001b[0;32mIn[5], line 10\u001b[0m, in \u001b[0;36mtraining\u001b[0;34m(dataloader, model, loss_fn, optimizer)\u001b[0m\n\u001b[1;32m      6\u001b[0m n \u001b[38;5;241m=\u001b[39m \u001b[38;5;241m0\u001b[39m\n\u001b[1;32m      8\u001b[0m \u001b[38;5;28;01mfor\u001b[39;00m X,y \u001b[38;5;129;01min\u001b[39;00m dataloader:\n\u001b[0;32m---> 10\u001b[0m     X,y \u001b[38;5;241m=\u001b[39m \u001b[43mX\u001b[49m\u001b[38;5;241;43m.\u001b[39;49m\u001b[43mto\u001b[49m\u001b[43m(\u001b[49m\u001b[43mdevice\u001b[49m\u001b[43m)\u001b[49m, y\u001b[38;5;241m.\u001b[39mto(device)\n\u001b[1;32m     11\u001b[0m     output \u001b[38;5;241m=\u001b[39m model(X)\n\u001b[1;32m     13\u001b[0m     cur_loss \u001b[38;5;241m=\u001b[39m loss_fn(output, y)\n",
      "\u001b[0;31mKeyboardInterrupt\u001b[0m: "
     ]
    },
    {
     "ename": "",
     "evalue": "",
     "output_type": "error",
     "traceback": [
      "\u001b[1;31m在当前单元格或上一个单元格中执行代码时 Kernel 崩溃。\n",
      "\u001b[1;31m请查看单元格中的代码，以确定故障的可能原因。\n",
      "\u001b[1;31m单击<a href='https://aka.ms/vscodeJupyterKernelCrash'>此处</a>了解详细信息。\n",
      "\u001b[1;31m有关更多详细信息，请查看 Jupyter <a href='command:jupyter.viewOutput'>log</a>。"
     ]
    }
   ],
   "source": [
    "epochs = 10\n",
    "max_acc = 0\n",
    "\n",
    "params = model.state_dict()\n",
    "\n",
    "for epoch in range(epochs):\n",
    "\n",
    "    loss, acc = training(train_loader, model, loss_fn, optimizer)\n",
    "    print(f'epoch {epoch + 1}/{epochs}: loss = {loss} acc = {acc}')\n",
    "    loss, acc = val(test_loader, model, loss_fn)\n",
    "    print(f'Validation: loss = {loss} acc = {acc}\\n')\n",
    "\n",
    "    # if acc > max_acc:\n",
    "    #     max_acc = acc\n",
    "    #     params = model.state_dict()\n",
    "    #     print('saved local best')"
   ]
  }
 ],
 "metadata": {
  "kernelspec": {
   "display_name": "torch",
   "language": "python",
   "name": "python3"
  },
  "language_info": {
   "codemirror_mode": {
    "name": "ipython",
    "version": 3
   },
   "file_extension": ".py",
   "mimetype": "text/x-python",
   "name": "python",
   "nbconvert_exporter": "python",
   "pygments_lexer": "ipython3",
   "version": "3.10.14"
  }
 },
 "nbformat": 4,
 "nbformat_minor": 2
}
