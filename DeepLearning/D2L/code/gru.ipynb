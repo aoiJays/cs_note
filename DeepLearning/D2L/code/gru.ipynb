{
 "cells": [
  {
   "cell_type": "code",
   "execution_count": 1,
   "metadata": {},
   "outputs": [],
   "source": [
    "import torch\n",
    "from torch import nn \n",
    "import matplotlib.pyplot as plt\n",
    "import numpy as np\n",
    "from torch.nn import functional as F"
   ]
  },
  {
   "cell_type": "code",
   "execution_count": 2,
   "metadata": {},
   "outputs": [],
   "source": [
    "def showplt(x, y,title, x_name, y_name):\n",
    "    # Plot the signal\n",
    "\tplt.figure(figsize=(10, 5))\n",
    "\tplt.plot(x, y)\n",
    "\tplt.title(title)\n",
    "\tplt.xlabel(x_name)\n",
    "\tplt.ylabel(y_name)\n",
    "\tplt.grid(True)\n",
    "\tplt.show()"
   ]
  },
  {
   "cell_type": "code",
   "execution_count": 3,
   "metadata": {},
   "outputs": [
    {
     "name": "stdout",
     "output_type": "stream",
     "text": [
      "Lines = 3221\n",
      "the time machine by h g wells\n",
      "twinkled and his usually pale face was flushed and animated the\n"
     ]
    }
   ],
   "source": [
    "import re\n",
    "def read_txt():\n",
    "    with open('data/timemachine.txt', 'r') as f:\n",
    "        lines = f.readlines()\n",
    "\n",
    "    # 替换所有非字母字符为空格 去除每行前后空白字符 转换为小写\n",
    "    return [re.sub('[^A-Za-z]+', ' ', line).strip().lower() for line in lines]\n",
    "\n",
    "lines = read_txt()\n",
    "print(f'Lines = {len(lines)}')\n",
    "print(lines[0], lines[10],sep='\\n')"
   ]
  },
  {
   "cell_type": "code",
   "execution_count": 4,
   "metadata": {},
   "outputs": [
    {
     "data": {
      "text/plain": [
       "['the', 'time', 'machine', 'by', 'h', 'g', 'wells']"
      ]
     },
     "execution_count": 4,
     "metadata": {},
     "output_type": "execute_result"
    }
   ],
   "source": [
    "def tokenize(lines, token='word'):\n",
    "    \n",
    "    # 按词或英文字符划分词元\n",
    "    # 以字符串列表形式返回\n",
    "    if token == 'word':\n",
    "        # 按空格分割\n",
    "        return [line.split() for line in lines]\n",
    "    else:\n",
    "        # 字符串转为字符列表\n",
    "        return [list(line) for line in lines]\n",
    "    \n",
    "tokens = tokenize(lines, 'word')\n",
    "tokens[0]    "
   ]
  },
  {
   "cell_type": "code",
   "execution_count": 5,
   "metadata": {},
   "outputs": [],
   "source": [
    "import collections\n",
    "\n",
    "class Vocab:  #@save\n",
    "    \"\"\"文本词表\"\"\"\n",
    "    def __init__(self, tokens=None, min_freq=0, reserved_tokens=None):\n",
    "        # 如果没有提供词元列表，则使用空列表\n",
    "        if tokens is None:\n",
    "            tokens = []\n",
    "        # 如果没有提供保留词元列表，则使用空列表\n",
    "        if reserved_tokens is None:\n",
    "            reserved_tokens = []\n",
    "        # 统计词元的频率并按频率降序排序\n",
    "        counter = count_corpus(tokens)\n",
    "        self._token_freqs = sorted(counter.items(), key=lambda x: x[1],\n",
    "                                   reverse=True)\n",
    "        # 初始化词表，未知词元的索引为0\n",
    "        self.idx_to_token = ['<unk>'] + reserved_tokens\n",
    "        # 创建从词元到索引的映射字典\n",
    "        self.token_to_idx = {token: idx\n",
    "                             for idx, token in enumerate(self.idx_to_token)}\n",
    "        # 遍历按频率排序后的词元和对应频率\n",
    "        for token, freq in self._token_freqs:\n",
    "            # 如果词元的频率小于最小频率，则停止添加\n",
    "            if freq < min_freq:\n",
    "                break\n",
    "            # 如果词元不在词表中，则将其添加到词表并更新映射字典\n",
    "            if token not in self.token_to_idx:\n",
    "                self.idx_to_token.append(token)\n",
    "                self.token_to_idx[token] = len(self.idx_to_token) - 1\n",
    "\n",
    "    def __len__(self):\n",
    "        # 返回词表的长度\n",
    "        return len(self.idx_to_token)\n",
    "\n",
    "    def __getitem__(self, tokens):\n",
    "        # 如果输入的是单个词元，返回其对应的索引\n",
    "        if not isinstance(tokens, (list, tuple)): #不是列表或元组\n",
    "            return self.token_to_idx.get(tokens, self.unk) # 字典中不存则自动返回unk\n",
    "        # 如果输入的是一个词元列表，递归获取每个词元的索引\n",
    "        return [self.__getitem__(token) for token in tokens]\n",
    "\n",
    "    def to_tokens(self, indices):\n",
    "        # 如果输入的是单个索引，返回其对应的词元\n",
    "        if not isinstance(indices, (list, tuple)):\n",
    "            return self.idx_to_token[indices]\n",
    "        # 如果输入的是一个索引列表，递归获取每个索引对应的词元\n",
    "        return [self.idx_to_token[index] for index in indices]\n",
    "\n",
    "    @property\n",
    "    def unk(self):  # 未知词元的索引为0\n",
    "        # 返回未知词元的索引\n",
    "        return 0\n",
    "\n",
    "    @property\n",
    "    def token_freqs(self):\n",
    "        # 返回词元及其对应频率的列表\n",
    "        return self._token_freqs\n",
    "\n",
    "def count_corpus(tokens):  #@save\n",
    "    \"\"\"统计词元的频率\"\"\"\n",
    "    # 这里的tokens是1D列表或2D列表\n",
    "    if len(tokens) == 0 or isinstance(tokens[0], list):\n",
    "        # 将2D词元列表展平成一个1D列表\n",
    "        tokens = [token for line in tokens for token in line]\n",
    "    # 使用collections.Counter统计词元的频率\n",
    "    return collections.Counter(tokens)\n"
   ]
  },
  {
   "cell_type": "code",
   "execution_count": 6,
   "metadata": {},
   "outputs": [
    {
     "name": "stdout",
     "output_type": "stream",
     "text": [
      "[('<unk>', 0), ('the', 1), ('i', 2), ('and', 3), ('of', 4), ('a', 5), ('to', 6), ('was', 7), ('in', 8), ('that', 9)]\n"
     ]
    }
   ],
   "source": [
    "vocab = Vocab(tokens)\n",
    "print(list(vocab.token_to_idx.items())[:10])"
   ]
  },
  {
   "cell_type": "code",
   "execution_count": 7,
   "metadata": {},
   "outputs": [
    {
     "name": "stdout",
     "output_type": "stream",
     "text": [
      "文本: ['the', 'time', 'machine', 'by', 'h', 'g', 'wells']\n",
      "索引: [1, 19, 50, 40, 2183, 2184, 400]\n",
      "文本: ['twinkled', 'and', 'his', 'usually', 'pale', 'face', 'was', 'flushed', 'and', 'animated', 'the']\n",
      "索引: [2186, 3, 25, 1044, 362, 113, 7, 1421, 3, 1045, 1]\n"
     ]
    },
    {
     "data": {
      "text/plain": [
       "\"\\n文本: ['the', 'time', 'machine', 'by', 'h', 'g', 'wells']\\n索引: [1, 19, 50, 40, 2183, 2184, 400]\\n文本: ['twinkled', 'and', 'his', 'usually', 'pale', 'face', 'was', 'flushed', 'and', 'animated', 'the']\\n索引: [2186, 3, 25, 1044, 362, 113, 7, 1421, 3, 1045, 1]\\n\""
      ]
     },
     "execution_count": 7,
     "metadata": {},
     "output_type": "execute_result"
    }
   ],
   "source": [
    "for i in [0, 10]:\n",
    "    print('文本:', tokens[i])\n",
    "    print('索引:', vocab[tokens[i]])\n",
    "    \n",
    "'''\n",
    "文本: ['the', 'time', 'machine', 'by', 'h', 'g', 'wells']\n",
    "索引: [1, 19, 50, 40, 2183, 2184, 400]\n",
    "文本: ['twinkled', 'and', 'his', 'usually', 'pale', 'face', 'was', 'flushed', 'and', 'animated', 'the']\n",
    "索引: [2186, 3, 25, 1044, 362, 113, 7, 1421, 3, 1045, 1]\n",
    "'''"
   ]
  },
  {
   "cell_type": "code",
   "execution_count": 8,
   "metadata": {},
   "outputs": [
    {
     "data": {
      "text/plain": [
       "(170580, 28)"
      ]
     },
     "execution_count": 8,
     "metadata": {},
     "output_type": "execute_result"
    }
   ],
   "source": [
    "def load_corpus(max_tokens=-1):  \n",
    "\n",
    "    lines = read_txt()\n",
    "    tokens = tokenize(lines, 'char')\n",
    "    vocab = Vocab(tokens)\n",
    "\n",
    "    # for line in tokens 枚举tokens中的每一行\n",
    "    # for token in line 枚举line中的每个词元\n",
    "    # 按顺序合并成一个列表 词元 -> 此表索引\n",
    "    corpus = [vocab[token] for line in tokens for token in line]\n",
    "    \n",
    "    if max_tokens > 0: # 最多保留数量\n",
    "        corpus = corpus[:max_tokens] \n",
    "        \n",
    "    return corpus, vocab\n",
    "\n",
    "corpus, vocab = load_corpus()\n",
    "len(corpus), len(vocab)\n"
   ]
  },
  {
   "cell_type": "code",
   "execution_count": 9,
   "metadata": {},
   "outputs": [
    {
     "data": {
      "text/plain": [
       "Text(0, 0.5, 'Frequency (log scale)')"
      ]
     },
     "execution_count": 9,
     "metadata": {},
     "output_type": "execute_result"
    },
    {
     "data": {
      "image/png": "[encoded data removed]",
      "text/plain": [
       "<Figure size 640x480 with 1 Axes>"
      ]
     },
     "metadata": {},
     "output_type": "display_data"
    }
   ],
   "source": [
    "freq = [freq for token, freq in vocab.token_freqs]\n",
    "indices = np.arange(1, len(freq) + 1)\n",
    "plt.figure()\n",
    "plt.plot(indices, freq)\n",
    "plt.xscale('log')\n",
    "plt.yscale('log')\n",
    "plt.title('Frequency vs. token')\n",
    "plt.xlabel('Token (log scale)')\n",
    "plt.ylabel('Frequency (log scale)')\n"
   ]
  },
  {
   "cell_type": "code",
   "execution_count": 10,
   "metadata": {},
   "outputs": [
    {
     "name": "stdout",
     "output_type": "stream",
     "text": [
      "sequential_solution\n",
      "batch:\n",
      "\n",
      "X:  tensor([[ 4,  5,  6,  7,  8],\n",
      "        [19, 20, 21, 22, 23]]) \n",
      "Y: tensor([[ 5,  6,  7,  8,  9],\n",
      "        [20, 21, 22, 23, 24]])\n",
      "batch:\n",
      "\n",
      "X:  tensor([[ 9, 10, 11, 12, 13],\n",
      "        [24, 25, 26, 27, 28]]) \n",
      "Y: tensor([[10, 11, 12, 13, 14],\n",
      "        [25, 26, 27, 28, 29]])\n",
      "batch:\n",
      "\n",
      "X:  tensor([[14, 15, 16, 17, 18],\n",
      "        [29, 30, 31, 32, 33]]) \n",
      "Y: tensor([[15, 16, 17, 18, 19],\n",
      "        [30, 31, 32, 33, 34]])\n"
     ]
    }
   ],
   "source": [
    "import random\n",
    "def seq_data_iter_random(corpus, batch_size, subseq_len):  \n",
    "\n",
    "\t# 随机偏移 一个subseq长度以内的量\n",
    "    corpus = corpus[random.randint(0, subseq_len - 1):]\n",
    "\n",
    "\t# 实际能够生成的subseq数量\n",
    "    num_subseqs = (len(corpus) - 1) // subseq_len\n",
    "    \n",
    "\t\n",
    "\t# 长度为subseq_len的子序列的起始索引\n",
    "    # [0, len, len*2, len*3, ...]\n",
    "    initial_indices = list(range(0, num_subseqs * subseq_len, subseq_len))\n",
    "    # 打乱位置 保证随机性\n",
    "    random.shuffle(initial_indices)\n",
    "\n",
    "    # 分配到各个batch中\n",
    "    num_batches = num_subseqs // batch_size\n",
    "\n",
    "    for i in range(0, batch_size * num_batches, batch_size):\n",
    "        \n",
    "        # [i, i + batch_size - 1]的索引为这个batch所有序列的起始坐标\n",
    "        # 剪出来\n",
    "        initial_indices_per_batch = initial_indices[i: i + batch_size]\n",
    "        \n",
    "        # 剪切出这一部分的序列\n",
    "        X = [corpus[j: j + subseq_len] for j in initial_indices_per_batch]\n",
    "        # 偏移一位 作为标签序列\n",
    "        Y = [corpus[j + 1: j + 1 + subseq_len] for j in initial_indices_per_batch]\n",
    "\n",
    "        # 提供迭代对象 \n",
    "        yield torch.tensor(X), torch.tensor(Y)\n",
    "    \n",
    "def seq_data_iter_sequential(corpus, batch_size, subseq_len):  #@save\n",
    "\n",
    "    # 从随机偏移量开始划分序列\n",
    "    offset = random.randint(0, subseq_len)\n",
    "    num_tokens = ((len(corpus) - offset - 1) // batch_size) * batch_size\n",
    "    \n",
    "    # 裁掉前面的偏移 与尾部的多余部分\n",
    "    Xs = torch.tensor(corpus[offset: offset + num_tokens])\n",
    "    Ys = torch.tensor(corpus[offset + 1: offset + 1 + num_tokens])\n",
    "\n",
    "    # 按batch_size进行reshape \n",
    "    # [ [a1, a2, a3], [b1, b2, b3] ]\n",
    "    # 返回[ [a1], [b1] ], [ [a2], [b2] ], [ [a3], [b3] ]\n",
    "    Xs, Ys = Xs.reshape(batch_size, -1), Ys.reshape(batch_size, -1)\n",
    "    \n",
    "    num_batches = Xs.shape[1] // subseq_len\n",
    "    for i in range(0, subseq_len * num_batches, subseq_len):\n",
    "        X = Xs[:, i: i + subseq_len]\n",
    "        Y = Ys[:, i: i + subseq_len]\n",
    "        yield X, Y\n",
    "\n",
    "my_seq = list(range(35)) # [0,1,2,3...,34]\n",
    "\n",
    "# 每个子序列的长度为5 每个batch含2个数据\n",
    "\n",
    "# print('random_solution')\n",
    "# for X, Y in seq_data_iter_random(my_seq, batch_size=2, subseq_len=5):\n",
    "#     print('batch:\\n')\n",
    "#     print('X: ', X, '\\nY:', Y)\n",
    "\n",
    "print('sequential_solution')\n",
    "for X, Y in seq_data_iter_sequential(my_seq, batch_size=2, subseq_len=5):\n",
    "    print('batch:\\n')\n",
    "    print('X: ', X, '\\nY:', Y)"
   ]
  },
  {
   "cell_type": "code",
   "execution_count": 11,
   "metadata": {},
   "outputs": [],
   "source": [
    "class SeqDataLoader:  #@save\n",
    "    \"\"\"加载序列数据的迭代器\"\"\"\n",
    "    def __init__(self, batch_size, num_steps, use_random_iter, max_tokens):\n",
    "        if use_random_iter:\n",
    "            self.data_iter_fn = seq_data_iter_random\n",
    "        else:\n",
    "            self.data_iter_fn = seq_data_iter_sequential\n",
    "        self.corpus, self.vocab = load_corpus(max_tokens)\n",
    "        self.batch_size, self.num_steps = batch_size, num_steps\n",
    "\n",
    "    def __iter__(self):\n",
    "        return self.data_iter_fn(self.corpus, self.batch_size, self.num_steps)\n",
    "    \n",
    "def load_data_time_machine(batch_size, num_steps, \n",
    "                           use_random_iter=False, max_tokens=10000):\n",
    "    \"\"\"返回时光机器数据集的迭代器和词表\"\"\"\n",
    "    data_iter = SeqDataLoader(\n",
    "        batch_size, num_steps, use_random_iter, max_tokens)\n",
    "    return data_iter, data_iter.vocab"
   ]
  },
  {
   "cell_type": "code",
   "execution_count": 12,
   "metadata": {},
   "outputs": [],
   "source": [
    "batch_size, num_steps = 32, 35\n",
    "train_iter, vocab = load_data_time_machine(batch_size, num_steps)"
   ]
  },
  {
   "cell_type": "code",
   "execution_count": 13,
   "metadata": {},
   "outputs": [
    {
     "data": {
      "text/plain": [
       "torch.Size([4, 2, 20])"
      ]
     },
     "execution_count": 13,
     "metadata": {},
     "output_type": "execute_result"
    }
   ],
   "source": [
    "input_size = 100   # 输入数据编码的维度\n",
    "hidden_size = 20   # 隐含层维度\n",
    "num_layers = 4     # 隐含层层数\n",
    "\n",
    "rnn = nn.RNN(input_size=input_size,hidden_size=hidden_size,num_layers=num_layers)\n",
    "\n",
    "seq_len = 10        # 句子长度\n",
    "batch_size = 2      \n",
    "\n",
    "x = torch.randn(seq_len,batch_size, input_size) \n",
    "h0 = torch.zeros(num_layers, batch_size, hidden_size)\n",
    "\n",
    "out, h = rnn(x,h0)\n",
    "\n",
    "h.shape"
   ]
  },
  {
   "cell_type": "code",
   "execution_count": 14,
   "metadata": {},
   "outputs": [],
   "source": [
    "class RNNModel(nn.Module):\n",
    "    def __init__(self, vocab, **kwargs):\n",
    "        \n",
    "        super(RNNModel, self).__init__(**kwargs)\n",
    "        \n",
    "        self.vocab_size = len(vocab)\n",
    "        self.num_hiddens = 256\n",
    "    \n",
    "        self.rnn = nn.GRU( # 唯一区别 ############\n",
    "            input_size = self.vocab_size, # 输入数据的维度（28种字符）\n",
    "            hidden_size = self.num_hiddens,  # 隐藏层维度\n",
    "            num_layers = 1  # 隐藏层层数\n",
    "        )\n",
    "        \n",
    "        # 输出层 由rnn的隐藏层 预测-> 每一个vocab的概率\n",
    "        self.linear = nn.Linear(self.num_hiddens, self.vocab_size)\n",
    "        # self.relu = nn.ReLU()\n",
    "        \n",
    "    def forward(self, inputs, state):\n",
    "        \n",
    "        X = F.one_hot(inputs.T.long(), self.vocab_size)\n",
    "        X = X.to(torch.float32)\n",
    "        Y, state = self.rnn(X, state)\n",
    "        # Y = self.relu(Y)\n",
    "        output = self.linear(Y.reshape(-1, Y.shape[-1]))\n",
    "        return output, state       \n",
    "    \n",
    "    def begin_state(self, batch_size, device):\n",
    "        return  torch.zeros(\n",
    "                (self.rnn.num_layers, batch_size, self.num_hiddens),\n",
    "                device=device\n",
    "            )"
   ]
  },
  {
   "cell_type": "code",
   "execution_count": 15,
   "metadata": {},
   "outputs": [],
   "source": [
    "device = torch.device('cuda' if torch.cuda.is_available() else 'cpu')\n",
    "net = RNNModel(vocab).to(device)\n"
   ]
  },
  {
   "cell_type": "code",
   "execution_count": 16,
   "metadata": {},
   "outputs": [
    {
     "ename": "IndexError",
     "evalue": "index 1 is out of bounds for dimension 0 with size 1",
     "output_type": "error",
     "traceback": [
      "\u001b[0;31m---------------------------------------------------------------------------\u001b[0m",
      "\u001b[0;31mIndexError\u001b[0m                                Traceback (most recent call last)",
      "Cell \u001b[0;32mIn[16], line 16\u001b[0m\n\u001b[1;32m     13\u001b[0m         outputs\u001b[38;5;241m.\u001b[39mappend(\u001b[38;5;28mint\u001b[39m(y\u001b[38;5;241m.\u001b[39margmax(axis\u001b[38;5;241m=\u001b[39m\u001b[38;5;241m1\u001b[39m)\u001b[38;5;241m.\u001b[39mreshape(\u001b[38;5;241m1\u001b[39m)))\n\u001b[1;32m     14\u001b[0m     \u001b[38;5;28;01mreturn\u001b[39;00m \u001b[38;5;124m'\u001b[39m\u001b[38;5;124m'\u001b[39m\u001b[38;5;241m.\u001b[39mjoin([vocab\u001b[38;5;241m.\u001b[39midx_to_token[i] \u001b[38;5;28;01mfor\u001b[39;00m i \u001b[38;5;129;01min\u001b[39;00m outputs])\n\u001b[0;32m---> 16\u001b[0m \u001b[43mpredict\u001b[49m\u001b[43m(\u001b[49m\u001b[38;5;124;43m'\u001b[39;49m\u001b[38;5;124;43mtime travel\u001b[39;49m\u001b[38;5;124;43m'\u001b[39;49m\u001b[43m,\u001b[49m\u001b[38;5;241;43m100\u001b[39;49m\u001b[43m)\u001b[49m\n",
      "Cell \u001b[0;32mIn[16], line 8\u001b[0m, in \u001b[0;36mpredict\u001b[0;34m(prefix, num_preds)\u001b[0m\n\u001b[1;32m      5\u001b[0m outputs \u001b[38;5;241m=\u001b[39m [vocab[prefix[\u001b[38;5;241m0\u001b[39m]]]\n\u001b[1;32m      7\u001b[0m \u001b[38;5;28;01mfor\u001b[39;00m y \u001b[38;5;129;01min\u001b[39;00m prefix[\u001b[38;5;241m1\u001b[39m:]:  \u001b[38;5;66;03m# 预热期\u001b[39;00m\n\u001b[0;32m----> 8\u001b[0m     _, state \u001b[38;5;241m=\u001b[39m \u001b[43mnet\u001b[49m\u001b[43m(\u001b[49m\u001b[43m \u001b[49m\u001b[43mtorch\u001b[49m\u001b[38;5;241;43m.\u001b[39;49m\u001b[43mtensor\u001b[49m\u001b[43m(\u001b[49m\u001b[43m[\u001b[49m\u001b[43moutputs\u001b[49m\u001b[43m[\u001b[49m\u001b[38;5;241;43m-\u001b[39;49m\u001b[38;5;241;43m1\u001b[39;49m\u001b[43m]\u001b[49m\u001b[43m]\u001b[49m\u001b[43m)\u001b[49m\u001b[38;5;241;43m.\u001b[39;49m\u001b[43mreshape\u001b[49m\u001b[43m(\u001b[49m\u001b[38;5;241;43m1\u001b[39;49m\u001b[43m,\u001b[49m\u001b[38;5;241;43m1\u001b[39;49m\u001b[43m)\u001b[49m\u001b[38;5;241;43m.\u001b[39;49m\u001b[43mto\u001b[49m\u001b[43m(\u001b[49m\u001b[43mdevice\u001b[49m\u001b[43m)\u001b[49m\u001b[43m,\u001b[49m\u001b[43m \u001b[49m\u001b[43mstate\u001b[49m\u001b[43m)\u001b[49m\n\u001b[1;32m      9\u001b[0m     outputs\u001b[38;5;241m.\u001b[39mappend(vocab[y])\n\u001b[1;32m     11\u001b[0m \u001b[38;5;28;01mfor\u001b[39;00m _ \u001b[38;5;129;01min\u001b[39;00m \u001b[38;5;28mrange\u001b[39m(num_preds):  \u001b[38;5;66;03m# 预测num_preds步\u001b[39;00m\n",
      "File \u001b[0;32m~/miniconda3/envs/pytorch-learn/lib/python3.8/site-packages/torch/nn/modules/module.py:1532\u001b[0m, in \u001b[0;36mModule._wrapped_call_impl\u001b[0;34m(self, *args, **kwargs)\u001b[0m\n\u001b[1;32m   1530\u001b[0m     \u001b[38;5;28;01mreturn\u001b[39;00m \u001b[38;5;28mself\u001b[39m\u001b[38;5;241m.\u001b[39m_compiled_call_impl(\u001b[38;5;241m*\u001b[39margs, \u001b[38;5;241m*\u001b[39m\u001b[38;5;241m*\u001b[39mkwargs)  \u001b[38;5;66;03m# type: ignore[misc]\u001b[39;00m\n\u001b[1;32m   1531\u001b[0m \u001b[38;5;28;01melse\u001b[39;00m:\n\u001b[0;32m-> 1532\u001b[0m     \u001b[38;5;28;01mreturn\u001b[39;00m \u001b[38;5;28;43mself\u001b[39;49m\u001b[38;5;241;43m.\u001b[39;49m\u001b[43m_call_impl\u001b[49m\u001b[43m(\u001b[49m\u001b[38;5;241;43m*\u001b[39;49m\u001b[43margs\u001b[49m\u001b[43m,\u001b[49m\u001b[43m \u001b[49m\u001b[38;5;241;43m*\u001b[39;49m\u001b[38;5;241;43m*\u001b[39;49m\u001b[43mkwargs\u001b[49m\u001b[43m)\u001b[49m\n",
      "File \u001b[0;32m~/miniconda3/envs/pytorch-learn/lib/python3.8/site-packages/torch/nn/modules/module.py:1541\u001b[0m, in \u001b[0;36mModule._call_impl\u001b[0;34m(self, *args, **kwargs)\u001b[0m\n\u001b[1;32m   1536\u001b[0m \u001b[38;5;66;03m# If we don't have any hooks, we want to skip the rest of the logic in\u001b[39;00m\n\u001b[1;32m   1537\u001b[0m \u001b[38;5;66;03m# this function, and just call forward.\u001b[39;00m\n\u001b[1;32m   1538\u001b[0m \u001b[38;5;28;01mif\u001b[39;00m \u001b[38;5;129;01mnot\u001b[39;00m (\u001b[38;5;28mself\u001b[39m\u001b[38;5;241m.\u001b[39m_backward_hooks \u001b[38;5;129;01mor\u001b[39;00m \u001b[38;5;28mself\u001b[39m\u001b[38;5;241m.\u001b[39m_backward_pre_hooks \u001b[38;5;129;01mor\u001b[39;00m \u001b[38;5;28mself\u001b[39m\u001b[38;5;241m.\u001b[39m_forward_hooks \u001b[38;5;129;01mor\u001b[39;00m \u001b[38;5;28mself\u001b[39m\u001b[38;5;241m.\u001b[39m_forward_pre_hooks\n\u001b[1;32m   1539\u001b[0m         \u001b[38;5;129;01mor\u001b[39;00m _global_backward_pre_hooks \u001b[38;5;129;01mor\u001b[39;00m _global_backward_hooks\n\u001b[1;32m   1540\u001b[0m         \u001b[38;5;129;01mor\u001b[39;00m _global_forward_hooks \u001b[38;5;129;01mor\u001b[39;00m _global_forward_pre_hooks):\n\u001b[0;32m-> 1541\u001b[0m     \u001b[38;5;28;01mreturn\u001b[39;00m \u001b[43mforward_call\u001b[49m\u001b[43m(\u001b[49m\u001b[38;5;241;43m*\u001b[39;49m\u001b[43margs\u001b[49m\u001b[43m,\u001b[49m\u001b[43m \u001b[49m\u001b[38;5;241;43m*\u001b[39;49m\u001b[38;5;241;43m*\u001b[39;49m\u001b[43mkwargs\u001b[49m\u001b[43m)\u001b[49m\n\u001b[1;32m   1543\u001b[0m \u001b[38;5;28;01mtry\u001b[39;00m:\n\u001b[1;32m   1544\u001b[0m     result \u001b[38;5;241m=\u001b[39m \u001b[38;5;28;01mNone\u001b[39;00m\n",
      "Cell \u001b[0;32mIn[14], line 23\u001b[0m, in \u001b[0;36mRNNModel.forward\u001b[0;34m(self, inputs, state)\u001b[0m\n\u001b[1;32m     21\u001b[0m X \u001b[38;5;241m=\u001b[39m F\u001b[38;5;241m.\u001b[39mone_hot(inputs\u001b[38;5;241m.\u001b[39mT\u001b[38;5;241m.\u001b[39mlong(), \u001b[38;5;28mself\u001b[39m\u001b[38;5;241m.\u001b[39mvocab_size)\n\u001b[1;32m     22\u001b[0m X \u001b[38;5;241m=\u001b[39m X\u001b[38;5;241m.\u001b[39mto(torch\u001b[38;5;241m.\u001b[39mfloat32)\n\u001b[0;32m---> 23\u001b[0m Y, state \u001b[38;5;241m=\u001b[39m \u001b[38;5;28;43mself\u001b[39;49m\u001b[38;5;241;43m.\u001b[39;49m\u001b[43mrnn\u001b[49m\u001b[43m(\u001b[49m\u001b[43mX\u001b[49m\u001b[43m,\u001b[49m\u001b[43m \u001b[49m\u001b[43mstate\u001b[49m\u001b[43m)\u001b[49m\n\u001b[1;32m     24\u001b[0m \u001b[38;5;66;03m# Y = self.relu(Y)\u001b[39;00m\n\u001b[1;32m     25\u001b[0m output \u001b[38;5;241m=\u001b[39m \u001b[38;5;28mself\u001b[39m\u001b[38;5;241m.\u001b[39mlinear(Y\u001b[38;5;241m.\u001b[39mreshape(\u001b[38;5;241m-\u001b[39m\u001b[38;5;241m1\u001b[39m, Y\u001b[38;5;241m.\u001b[39mshape[\u001b[38;5;241m-\u001b[39m\u001b[38;5;241m1\u001b[39m]))\n",
      "File \u001b[0;32m~/miniconda3/envs/pytorch-learn/lib/python3.8/site-packages/torch/nn/modules/module.py:1532\u001b[0m, in \u001b[0;36mModule._wrapped_call_impl\u001b[0;34m(self, *args, **kwargs)\u001b[0m\n\u001b[1;32m   1530\u001b[0m     \u001b[38;5;28;01mreturn\u001b[39;00m \u001b[38;5;28mself\u001b[39m\u001b[38;5;241m.\u001b[39m_compiled_call_impl(\u001b[38;5;241m*\u001b[39margs, \u001b[38;5;241m*\u001b[39m\u001b[38;5;241m*\u001b[39mkwargs)  \u001b[38;5;66;03m# type: ignore[misc]\u001b[39;00m\n\u001b[1;32m   1531\u001b[0m \u001b[38;5;28;01melse\u001b[39;00m:\n\u001b[0;32m-> 1532\u001b[0m     \u001b[38;5;28;01mreturn\u001b[39;00m \u001b[38;5;28;43mself\u001b[39;49m\u001b[38;5;241;43m.\u001b[39;49m\u001b[43m_call_impl\u001b[49m\u001b[43m(\u001b[49m\u001b[38;5;241;43m*\u001b[39;49m\u001b[43margs\u001b[49m\u001b[43m,\u001b[49m\u001b[43m \u001b[49m\u001b[38;5;241;43m*\u001b[39;49m\u001b[38;5;241;43m*\u001b[39;49m\u001b[43mkwargs\u001b[49m\u001b[43m)\u001b[49m\n",
      "File \u001b[0;32m~/miniconda3/envs/pytorch-learn/lib/python3.8/site-packages/torch/nn/modules/module.py:1541\u001b[0m, in \u001b[0;36mModule._call_impl\u001b[0;34m(self, *args, **kwargs)\u001b[0m\n\u001b[1;32m   1536\u001b[0m \u001b[38;5;66;03m# If we don't have any hooks, we want to skip the rest of the logic in\u001b[39;00m\n\u001b[1;32m   1537\u001b[0m \u001b[38;5;66;03m# this function, and just call forward.\u001b[39;00m\n\u001b[1;32m   1538\u001b[0m \u001b[38;5;28;01mif\u001b[39;00m \u001b[38;5;129;01mnot\u001b[39;00m (\u001b[38;5;28mself\u001b[39m\u001b[38;5;241m.\u001b[39m_backward_hooks \u001b[38;5;129;01mor\u001b[39;00m \u001b[38;5;28mself\u001b[39m\u001b[38;5;241m.\u001b[39m_backward_pre_hooks \u001b[38;5;129;01mor\u001b[39;00m \u001b[38;5;28mself\u001b[39m\u001b[38;5;241m.\u001b[39m_forward_hooks \u001b[38;5;129;01mor\u001b[39;00m \u001b[38;5;28mself\u001b[39m\u001b[38;5;241m.\u001b[39m_forward_pre_hooks\n\u001b[1;32m   1539\u001b[0m         \u001b[38;5;129;01mor\u001b[39;00m _global_backward_pre_hooks \u001b[38;5;129;01mor\u001b[39;00m _global_backward_hooks\n\u001b[1;32m   1540\u001b[0m         \u001b[38;5;129;01mor\u001b[39;00m _global_forward_hooks \u001b[38;5;129;01mor\u001b[39;00m _global_forward_pre_hooks):\n\u001b[0;32m-> 1541\u001b[0m     \u001b[38;5;28;01mreturn\u001b[39;00m \u001b[43mforward_call\u001b[49m\u001b[43m(\u001b[49m\u001b[38;5;241;43m*\u001b[39;49m\u001b[43margs\u001b[49m\u001b[43m,\u001b[49m\u001b[43m \u001b[49m\u001b[38;5;241;43m*\u001b[39;49m\u001b[38;5;241;43m*\u001b[39;49m\u001b[43mkwargs\u001b[49m\u001b[43m)\u001b[49m\n\u001b[1;32m   1543\u001b[0m \u001b[38;5;28;01mtry\u001b[39;00m:\n\u001b[1;32m   1544\u001b[0m     result \u001b[38;5;241m=\u001b[39m \u001b[38;5;28;01mNone\u001b[39;00m\n",
      "File \u001b[0;32m~/miniconda3/envs/pytorch-learn/lib/python3.8/site-packages/torch/nn/modules/rnn.py:896\u001b[0m, in \u001b[0;36mLSTM.forward\u001b[0;34m(self, input, hx)\u001b[0m\n\u001b[1;32m    894\u001b[0m \u001b[38;5;28;01mif\u001b[39;00m is_batched:\n\u001b[1;32m    895\u001b[0m     \u001b[38;5;28;01mif\u001b[39;00m (hx[\u001b[38;5;241m0\u001b[39m]\u001b[38;5;241m.\u001b[39mdim() \u001b[38;5;241m!=\u001b[39m \u001b[38;5;241m3\u001b[39m \u001b[38;5;129;01mor\u001b[39;00m hx[\u001b[38;5;241m1\u001b[39m]\u001b[38;5;241m.\u001b[39mdim() \u001b[38;5;241m!=\u001b[39m \u001b[38;5;241m3\u001b[39m):\n\u001b[0;32m--> 896\u001b[0m         msg \u001b[38;5;241m=\u001b[39m (\u001b[38;5;124m\"\u001b[39m\u001b[38;5;124mFor batched 3-D input, hx and cx should \u001b[39m\u001b[38;5;124m\"\u001b[39m\n\u001b[1;32m    897\u001b[0m                \u001b[38;5;124mf\u001b[39m\u001b[38;5;124m\"\u001b[39m\u001b[38;5;124malso be 3-D but got (\u001b[39m\u001b[38;5;132;01m{\u001b[39;00mhx[\u001b[38;5;241m0\u001b[39m]\u001b[38;5;241m.\u001b[39mdim()\u001b[38;5;132;01m}\u001b[39;00m\u001b[38;5;124m-D, \u001b[39m\u001b[38;5;132;01m{\u001b[39;00mhx[\u001b[38;5;241m1\u001b[39m]\u001b[38;5;241m.\u001b[39mdim()\u001b[38;5;132;01m}\u001b[39;00m\u001b[38;5;124m-D) tensors\u001b[39m\u001b[38;5;124m\"\u001b[39m)\n\u001b[1;32m    898\u001b[0m         \u001b[38;5;28;01mraise\u001b[39;00m \u001b[38;5;167;01mRuntimeError\u001b[39;00m(msg)\n\u001b[1;32m    899\u001b[0m \u001b[38;5;28;01melse\u001b[39;00m:\n",
      "\u001b[0;31mIndexError\u001b[0m: index 1 is out of bounds for dimension 0 with size 1"
     ]
    }
   ],
   "source": [
    "def predict(prefix,num_preds = 30):\n",
    "    \n",
    "    \n",
    "    state = net.begin_state(batch_size=1, device=device)\n",
    "    outputs = [vocab[prefix[0]]]\n",
    "\n",
    "    for y in prefix[1:]:  # 预热期\n",
    "        _, state = net( torch.tensor([outputs[-1]]).reshape(1,1).to(device), state)\n",
    "        outputs.append(vocab[y])\n",
    "\n",
    "    for _ in range(num_preds):  # 预测num_preds步\n",
    "        y, state = net(torch.tensor([outputs[-1]]).reshape(1,1).to(device), state)\n",
    "        outputs.append(int(y.argmax(axis=1).reshape(1)))\n",
    "    return ''.join([vocab.idx_to_token[i] for i in outputs])\n",
    "    \n",
    "predict('time travel',100)"
   ]
  },
  {
   "cell_type": "code",
   "execution_count": null,
   "metadata": {},
   "outputs": [],
   "source": [
    "num_epochs, lr = 1000, 1\n"
   ]
  },
  {
   "cell_type": "code",
   "execution_count": null,
   "metadata": {},
   "outputs": [],
   "source": [
    "import math\n",
    "import time\n",
    "\n",
    "def grad_clipping(net, theta):\n",
    "    params = [p for p in net.parameters() if p.requires_grad]\n",
    "    norm = torch.sqrt(sum(torch.sum((p.grad ** 2)) for p in params))\n",
    "    if norm > theta:\n",
    "        for param in params:\n",
    "            param.grad[:] *= theta / norm\n",
    "            \n",
    "def train_epoch(net, train_iter, loss, updater, device):\n",
    "\n",
    "    start = time.time()\n",
    "    training_loss, tokens = 0.0, 0\n",
    "\n",
    "    for X, Y in train_iter:\n",
    "        \n",
    "        state = net.begin_state(batch_size=X.shape[0], device=device)\n",
    "        y = Y.T.reshape(-1)\n",
    "        X, y = X.to(device), y.to(device)\n",
    "        y_hat, state = net(X, state)\n",
    "        \n",
    "        l = loss(y_hat, y.long()).mean()\n",
    "        \n",
    "        updater.zero_grad()\n",
    "        l.backward()\n",
    "        grad_clipping(net, 1)\n",
    "        updater.step()\n",
    "\n",
    "        training_loss += l * y.numel()\n",
    "        tokens += y.numel()\n",
    "\n",
    "    return math.exp(training_loss / tokens), tokens / (time.time() - start)"
   ]
  },
  {
   "cell_type": "code",
   "execution_count": null,
   "metadata": {},
   "outputs": [
    {
     "name": "stdout",
     "output_type": "stream",
     "text": [
      "time traveller the the the the the the the t\n",
      "epoch = 20/1000 perplexity 12.2\n",
      "time traveller the the the the the the the t\n",
      "epoch = 40/1000 perplexity 10.1\n",
      "time travellererere the the the the the the \n",
      "epoch = 60/1000 perplexity 9.2\n",
      "time traveller and the the the the the the t\n",
      "epoch = 80/1000 perplexity 8.5\n",
      "time traveller the the the the the the the t\n",
      "epoch = 100/1000 perplexity 7.9\n",
      "time traveller and the the the the the the t\n",
      "epoch = 120/1000 perplexity 7.2\n",
      "time traveller the the the the the the the t\n",
      "epoch = 140/1000 perplexity 6.6\n",
      "time traveller the this the this the this th\n",
      "epoch = 160/1000 perplexity 5.9\n",
      "time traveller and the this this seading and\n",
      "epoch = 180/1000 perplexity 5.2\n",
      "time traveller thing this is that is the tim\n",
      "epoch = 200/1000 perplexity 4.4\n",
      "time traveller thing the time traveller thin\n",
      "epoch = 220/1000 perplexity 3.7\n",
      "time traveller ant the said the medical man \n",
      "epoch = 240/1000 perplexity 2.9\n",
      "time travellerit s ugainst reason said the m\n",
      "epoch = 260/1000 perplexity 2.3\n",
      "time traveller the trome travellerit s foles\n",
      "epoch = 280/1000 perplexity 2.0\n",
      "time traveller hild a prect of s agans of sp\n",
      "epoch = 300/1000 perplexity 1.7\n",
      "time traveller scientific diagrama weather r\n",
      "epoch = 320/1000 perplexity 1.5\n",
      "time travellerit s against reason said filby\n",
      "epoch = 340/1000 perplexity 1.5\n",
      "time travellerit s against reason said filby\n",
      "epoch = 360/1000 perplexity 1.4\n",
      "time traveller came back andfilby s anecdote\n",
      "epoch = 380/1000 perplexity 1.4\n",
      "time travellerit s against reason said filby\n",
      "epoch = 400/1000 perplexity 1.4\n",
      "time traveller but now you begin to seethe o\n",
      "epoch = 420/1000 perplexity 1.5\n",
      "time traveller smiled ract and firtandanilit\n",
      "epoch = 440/1000 perplexity 1.4\n",
      "time travellerit s against reason said filby\n",
      "epoch = 460/1000 perplexity 1.3\n",
      "time travellerit s against reason said filby\n",
      "epoch = 480/1000 perplexity 1.3\n",
      "time travellerit s against reason said filby\n",
      "epoch = 500/1000 perplexity 1.4\n",
      "time travellerit s against reason said filby\n",
      "epoch = 520/1000 perplexity 1.3\n",
      "time travellerit s against reason said filby\n",
      "epoch = 540/1000 perplexity 1.3\n",
      "time travellerit s against reason said filby\n",
      "epoch = 560/1000 perplexity 1.3\n",
      "time travellerit s against reason said filby\n",
      "epoch = 580/1000 perplexity 1.3\n",
      "time traveller held in his hand was a glitte\n",
      "epoch = 600/1000 perplexity 1.3\n",
      "time travellerit s against reason said filby\n",
      "epoch = 620/1000 perplexity 1.3\n",
      "time travellerit s against reason said filby\n",
      "epoch = 640/1000 perplexity 1.3\n",
      "time travellerit s against reason said filby\n",
      "epoch = 660/1000 perplexity 1.3\n",
      "time traveller held in his hand was a glitte\n",
      "epoch = 680/1000 perplexity 1.3\n",
      "time traveller proceeded anyreal body must h\n",
      "epoch = 700/1000 perplexity 1.3\n",
      "time travellerit s against reason said filby\n",
      "epoch = 720/1000 perplexity 1.3\n",
      "time travellerit s against reason said filby\n",
      "epoch = 740/1000 perplexity 1.3\n",
      "time travellerit s against reason said filby\n",
      "epoch = 760/1000 perplexity 1.3\n",
      "time traveller after the pauserequired for t\n",
      "epoch = 780/1000 perplexity 1.3\n",
      "time travellerit s against reason said filby\n",
      "epoch = 800/1000 perplexity 1.3\n",
      "time travellerit s against reason said filby\n",
      "epoch = 820/1000 perplexity 1.3\n",
      "time traveller after the pauserequired for t\n",
      "epoch = 840/1000 perplexity 1.2\n",
      "time traveller held in his hand was a glitte\n",
      "epoch = 860/1000 perplexity 1.3\n",
      "time traveller after the pauserequired for t\n",
      "epoch = 880/1000 perplexity 1.3\n",
      "time travellerit s against reason said filby\n",
      "epoch = 900/1000 perplexity 1.2\n",
      "time traveller held in his hand was a glitte\n",
      "epoch = 920/1000 perplexity 1.3\n",
      "time travellerit s against reason said filby\n",
      "epoch = 940/1000 perplexity 1.3\n",
      "time travellerit s against reason said filby\n",
      "epoch = 960/1000 perplexity 1.3\n",
      "time traveller after the pauserequired for t\n",
      "epoch = 980/1000 perplexity 1.3\n",
      "time traveller but now you begin to seethe o\n",
      "epoch = 1000/1000 perplexity 1.2\n",
      "ending\n",
      "perplexity 1.2, 847429.7 tokens/sec on cuda\n",
      "time traveller but now you begin to seethe o\n",
      "traveller after the pauserequired for t\n"
     ]
    },
    {
     "data": {
      "image/png": "[encoded data removed]",
      "text/plain": [
       "<Figure size 1000x500 with 1 Axes>"
      ]
     },
     "metadata": {},
     "output_type": "display_data"
    }
   ],
   "source": [
    "def train(net, train_iter, vocab, lr, num_epochs, device):\n",
    "\n",
    "    pltx = []\n",
    "    plty = []\n",
    "    \n",
    "    loss = nn.CrossEntropyLoss()\n",
    "    updater = torch.optim.SGD(net.parameters(), lr)\n",
    "\n",
    "    for epoch in range(num_epochs):\n",
    "        ppl, speed = train_epoch(\n",
    "            net, train_iter, loss, updater, device)\n",
    "        \n",
    "        if (epoch + 1) % 20 == 0:\n",
    "            print(predict('time traveller'))\n",
    "            print(f'epoch = {epoch+1}/{num_epochs} perplexity {ppl:.1f}')\n",
    "            pltx.append(epoch + 1)\n",
    "            plty.append(ppl)\n",
    "            \n",
    "            \n",
    "    print('ending')\n",
    "    print(f'perplexity {ppl:.1f}, {speed:.1f} tokens/sec on {str(device)}')\n",
    "    print(predict('time traveller'))\n",
    "    print(predict('traveller'))\n",
    "    \n",
    "    showplt(pltx, plty, 'Training', 'Epoch', 'Perplexity')\n",
    "train(net, train_iter, vocab, lr, num_epochs, device)"
   ]
  },
  {
   "cell_type": "code",
   "execution_count": null,
   "metadata": {},
   "outputs": [
    {
     "name": "stdout",
     "output_type": "stream",
     "text": [
      "time traveller but now you begin to seethe object of my investigations into the geometry of fourdimensions long ago i had a vague inkling of a machineto travel through time exclaim the provincial mayorit is simply \n"
     ]
    }
   ],
   "source": [
    "print(predict('time traveller', 200))"
   ]
  },
  {
   "cell_type": "code",
   "execution_count": null,
   "metadata": {},
   "outputs": [
    {
     "data": {
      "text/plain": [
       "torch.Size([5, 2, 10])"
      ]
     },
     "execution_count": 21,
     "metadata": {},
     "output_type": "execute_result"
    }
   ],
   "source": [
    "X = torch.arange(10).reshape((2, 5))\n",
    "F.one_hot(X.T, 10).shape"
   ]
  }
 ],
 "metadata": {
  "kernelspec": {
   "display_name": "torch",
   "language": "python",
   "name": "python3"
  },
  "language_info": {
   "codemirror_mode": {
    "name": "ipython",
    "version": 3
   },
   "file_extension": ".py",
   "mimetype": "text/x-python",
   "name": "python",
   "nbconvert_exporter": "python",
   "pygments_lexer": "ipython3",
   "version": "3.8.19"
  }
 },
 "nbformat": 4,
 "nbformat_minor": 2
}
