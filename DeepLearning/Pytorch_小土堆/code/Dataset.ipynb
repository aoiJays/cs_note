{
 "cells": [
  {
   "cell_type": "code",
   "execution_count": 16,
   "metadata": {},
   "outputs": [],
   "source": [
    "from torch.utils.data import Dataset\n",
    "from PIL import Image\n",
    "import os"
   ]
  },
  {
   "cell_type": "code",
   "execution_count": 17,
   "metadata": {},
   "outputs": [
    {
     "name": "stdout",
     "output_type": "stream",
     "text": [
      "124 121 245\n"
     ]
    }
   ],
   "source": [
    "class MyDataet(Dataset):\n",
    "\n",
    "    def __init__(self, root_dir, label):\n",
    "        \n",
    "        # 自定义 怎么方便怎么来\n",
    "        self.root_dir = root_dir # 记录数据地址以及对应的标签\n",
    "        self.label = label\n",
    "        self.imglist = os.listdir(self.root_dir) # 以列表形式展示文件夹内所有文件\n",
    "    \n",
    "    def __getitem__(self, idx):\n",
    "        img_name= self.imglist[idx]\n",
    "        img_path = os.path.join( self.root_dir, img_name )\n",
    "        \n",
    "        img = Image.open(img_path) # 打开图片\n",
    "        label = self.label\n",
    "\n",
    "        return img, label # 返回数据与标签\n",
    "    \n",
    "    def __len__(self):\n",
    "        return len(self.imglist)\n",
    "    \n",
    "train_ants = MyDataet('../Dataset/hymenoptera_data/train/ants', 'ants')  \n",
    "train_bees = MyDataet('../Dataset/hymenoptera_data/train/bees', 'bees')  \n",
    "\n",
    "train_data = train_ants + train_bees\n",
    "print( train_ants.__len__(),  train_bees.__len__(), train_data.__len__())\n"
   ]
  },
  {
   "cell_type": "code",
   "execution_count": 19,
   "metadata": {},
   "outputs": [
    {
     "data": {
      "text/plain": [
       "(<PIL.JpegImagePlugin.JpegImageFile image mode=RGB size=311x387>, 'bees')"
      ]
     },
     "execution_count": 19,
     "metadata": {},
     "output_type": "execute_result"
    }
   ],
   "source": []
  }
 ],
 "metadata": {
  "kernelspec": {
   "display_name": "pytorch-learn",
   "language": "python",
   "name": "python3"
  },
  "language_info": {
   "codemirror_mode": {
    "name": "ipython",
    "version": 3
   },
   "file_extension": ".py",
   "mimetype": "text/x-python",
   "name": "python",
   "nbconvert_exporter": "python",
   "pygments_lexer": "ipython3",
   "version": "3.8.19"
  }
 },
 "nbformat": 4,
 "nbformat_minor": 2
}
