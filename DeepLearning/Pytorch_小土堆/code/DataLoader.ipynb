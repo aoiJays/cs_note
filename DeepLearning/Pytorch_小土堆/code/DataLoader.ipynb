{
 "cells": [
  {
   "cell_type": "code",
   "execution_count": 3,
   "metadata": {},
   "outputs": [
    {
     "name": "stdout",
     "output_type": "stream",
     "text": [
      "Files already downloaded and verified\n"
     ]
    }
   ],
   "source": [
    "import torchvision\n",
    "from torch.utils.data import DataLoader\n",
    "\n",
    "test_set = torchvision.datasets.CIFAR10(root='../Dataset', train=False, transform=torchvision.transforms.ToTensor(), download=True) # 测试集\n",
    "test_loader = DataLoader(dataset=test_set, batch_size=64, shuffle=True, drop_last=False)"
   ]
  },
  {
   "cell_type": "code",
   "execution_count": 11,
   "metadata": {},
   "outputs": [
    {
     "name": "stdout",
     "output_type": "stream",
     "text": [
      "tensor([0.5451, 0.5373, 0.4118, 0.3529, 0.3490, 0.3294, 0.2667, 0.1882, 0.1333,\n",
      "        0.1098, 0.1176, 0.1294, 0.1647, 0.2000, 0.2784, 0.3490, 0.3725, 0.3765,\n",
      "        0.3804, 0.3804, 0.3882, 0.4039, 0.4157, 0.4196, 0.4314, 0.5098, 0.6392,\n",
      "        0.7647, 0.8275, 0.8510, 0.8510, 0.8431])\n"
     ]
    }
   ],
   "source": [
    "for data in test_loader:\n",
    "    imgs, targets = data\n",
    "    print(imgs[0][0])\n",
    "    break"
   ]
  }
 ],
 "metadata": {
  "kernelspec": {
   "display_name": "pytorch-learn",
   "language": "python",
   "name": "python3"
  },
  "language_info": {
   "codemirror_mode": {
    "name": "ipython",
    "version": 3
   },
   "file_extension": ".py",
   "mimetype": "text/x-python",
   "name": "python",
   "nbconvert_exporter": "python",
   "pygments_lexer": "ipython3",
   "version": "3.8.19"
  }
 },
 "nbformat": 4,
 "nbformat_minor": 2
}
