{
 "cells": [
  {
   "cell_type": "markdown",
   "metadata": {},
   "source": [
    "# 数据处理"
   ]
  },
  {
   "cell_type": "code",
   "execution_count": 8,
   "metadata": {},
   "outputs": [
    {
     "name": "stdout",
     "output_type": "stream",
     "text": [
      "Files already downloaded and verified\n",
      "Files already downloaded and verified\n",
      "50000 10000\n"
     ]
    }
   ],
   "source": [
    "import torchvision\n",
    "from torch.utils.data import DataLoader\n",
    "import torch\n",
    "\n",
    "device = torch.device(\"cuda\" if torch.cuda.is_available() else \"cpu\")\n",
    "\n",
    "\n",
    "train_set = torchvision.datasets.CIFAR10(root='../Dataset', train=True, transform=torchvision.transforms.ToTensor(), download=True) # 训练集\n",
    "test_set = torchvision.datasets.CIFAR10(root='../Dataset', train=False, transform=torchvision.transforms.ToTensor(), download=True) # 测试集\n",
    "\n",
    "train_data_size = len(train_set)\n",
    "test_data_size = len(test_set)\n",
    "\n",
    "print(train_data_size, test_data_size)\n",
    "\n",
    "train_loader = DataLoader(dataset=train_set, batch_size=64, shuffle=True, drop_last=False)\n",
    "test_loader = DataLoader(dataset=test_set, batch_size=64, shuffle=False, drop_last=False)"
   ]
  },
  {
   "cell_type": "markdown",
   "metadata": {},
   "source": [
    "# 构建网络"
   ]
  },
  {
   "cell_type": "code",
   "execution_count": 9,
   "metadata": {},
   "outputs": [],
   "source": [
    "from torch import nn\n",
    "\n",
    "class Mynn(nn.Module):\n",
    "\n",
    "\tdef __init__(self):\n",
    "\t\tsuper().__init__()\n",
    "\t\tself.sequential = nn.Sequential(\n",
    "\t\t\tnn.Conv2d(in_channels=3, out_channels=32, kernel_size=5, padding=2),\n",
    "\t\t\tnn.MaxPool2d(2),\n",
    "\t\t\tnn.Conv2d(in_channels=32, out_channels=32, kernel_size=5, padding=2),\n",
    "\t\t\tnn.MaxPool2d(2),\n",
    "\t\t\tnn.Conv2d(in_channels=32, out_channels=64, kernel_size=5, padding=2),\n",
    "\t\t\tnn.MaxPool2d(2),\n",
    "\t\t\tnn.Flatten(), # 将tensor张成一维张量\n",
    "\t\t\tnn.Linear(1024, 64),\n",
    "\t\t\tnn.Linear(64, 10)\n",
    "\t\t)\n",
    "\t\n",
    "\tdef forward(self, x):\n",
    "\t\tx = self.sequential(x)\n",
    "\t\treturn x"
   ]
  },
  {
   "cell_type": "code",
   "execution_count": 10,
   "metadata": {},
   "outputs": [],
   "source": [
    "from torch import optim\n",
    "\n",
    "mynn = Mynn().to(device)\n",
    "loss_fn = nn.CrossEntropyLoss().to(device)\n",
    "optim = optim.SGD(mynn.parameters(), lr = 1e-2)\n",
    "\n"
   ]
  },
  {
   "cell_type": "code",
   "execution_count": 11,
   "metadata": {},
   "outputs": [
    {
     "name": "stdout",
     "output_type": "stream",
     "text": [
      "-----------第1轮训练-------------\n",
      "16000/50000 Loss = 2.2679781913757324\n",
      "32000/50000 Loss = 2.0383412837982178\n",
      "48000/50000 Loss = 2.015619993209839\n",
      "测试集Loss = 327.1224995851517\n",
      "-----------第2轮训练-------------\n",
      "16000/50000 Loss = 1.8504860401153564\n",
      "32000/50000 Loss = 1.6888399124145508\n",
      "48000/50000 Loss = 1.7782565355300903\n",
      "测试集Loss = 316.9340169429779\n",
      "-----------第3轮训练-------------\n",
      "16000/50000 Loss = 2.026477098464966\n",
      "32000/50000 Loss = 1.6106362342834473\n",
      "48000/50000 Loss = 1.724058747291565\n",
      "测试集Loss = 262.1091502904892\n",
      "-----------第4轮训练-------------\n",
      "16000/50000 Loss = 1.4752639532089233\n",
      "32000/50000 Loss = 1.5337363481521606\n",
      "48000/50000 Loss = 1.4638481140136719\n",
      "测试集Loss = 248.33262193202972\n",
      "-----------第5轮训练-------------\n",
      "16000/50000 Loss = 1.5756809711456299\n",
      "32000/50000 Loss = 1.4454150199890137\n",
      "48000/50000 Loss = 1.2594473361968994\n",
      "测试集Loss = 231.36229169368744\n",
      "-----------第6轮训练-------------\n",
      "16000/50000 Loss = 1.6811692714691162\n",
      "32000/50000 Loss = 1.3971315622329712\n",
      "48000/50000 Loss = 1.3222328424453735\n",
      "测试集Loss = 213.84231638908386\n",
      "-----------第7轮训练-------------\n",
      "16000/50000 Loss = 1.495497226715088\n",
      "32000/50000 Loss = 1.3736317157745361\n",
      "48000/50000 Loss = 1.4737396240234375\n",
      "测试集Loss = 201.96930146217346\n",
      "-----------第8轮训练-------------\n",
      "16000/50000 Loss = 1.3796638250350952\n",
      "32000/50000 Loss = 1.1317135095596313\n",
      "48000/50000 Loss = 1.4793188571929932\n",
      "测试集Loss = 211.4926496744156\n",
      "-----------第9轮训练-------------\n",
      "16000/50000 Loss = 1.440243124961853\n",
      "32000/50000 Loss = 1.2714728116989136\n",
      "48000/50000 Loss = 1.2512538433074951\n",
      "测试集Loss = 206.00995516777039\n",
      "-----------第10轮训练-------------\n",
      "16000/50000 Loss = 1.386832356452942\n",
      "32000/50000 Loss = 1.2317746877670288\n",
      "48000/50000 Loss = 0.9571834802627563\n",
      "测试集Loss = 182.09277641773224\n"
     ]
    }
   ],
   "source": [
    "from torch.utils.tensorboard import SummaryWriter\n",
    "writer = SummaryWriter(\"logs\") # 创建对象 在logs文件夹下保存文件\n",
    "\n",
    "\n",
    "epochs = 40\n",
    "\n",
    "\n",
    "for i in range(epochs):\n",
    "\t\n",
    "\tprint('-----------第{}轮训练-------------'.format(i + 1))\n",
    "\t\n",
    "\ttrain_size = 0\t\n",
    "\ttrain_step = 0\n",
    "\n",
    "\tfor imgs, targets in train_loader:\n",
    "\t\t\n",
    "\t\timgs = imgs.to(device)\n",
    "\t\ttargets = targets.to(device)\n",
    "\n",
    "\t\t# 正向推理\n",
    "\t\toutputs = mynn(imgs)\n",
    "\t\tloss = loss_fn(outputs, targets)\n",
    "\t\t\n",
    "\t\t# 优化\n",
    "\t\toptim.zero_grad()\n",
    "\t\tloss.backward()\n",
    "\t\toptim.step()\n",
    "\n",
    "\n",
    "\t\t# 观察损失函数\t\n",
    "\t\ttrain_size += len(imgs)\n",
    "\t\ttrain_step += 1\n",
    "\n",
    "\t\twriter.add_scalar(\"Train Loss\", loss.item(), train_step)\n",
    "\t\tif train_step % 250 == 0:\n",
    "\t\t\tprint('{}/{} Loss = {}'.format(train_size, train_data_size, loss.item()))\n",
    "\n",
    "\t\n",
    "\t# 测试\n",
    "\ttotal_loss = 0\n",
    "\n",
    "\t# 上下文管理器：\n",
    "\t# with 语句是一个上下文管理器，确保在其内部的代码块在启用了 torch.no_grad() 模式下执行。\n",
    "\t# 一旦代码块执行完毕，上下文管理器会恢复之前的状态，如果之前启用了梯度计算，则重新启用。\n",
    "\n",
    "\t# torch.no_grad() 纯推理 不需要记录梯度 节省时间\n",
    "\twith torch.no_grad():\n",
    "\t\tfor imgs, targets in test_loader:\n",
    "\n",
    "\t\t\timgs = imgs.to(device)\n",
    "\t\t\ttargets = targets.to(device)\n",
    "\t\t\t\n",
    "\t\t\toutputs = mynn(imgs)\n",
    "\t\t\tloss = loss_fn(outputs, targets)\n",
    "\t\t\ttotal_loss += loss.item()\n",
    "\n",
    "\t\twriter.add_scalar(\"Test Loss\", total_loss/test_data_size, i)\n",
    "\t\tprint('测试集Loss = {}'.format(total_loss/test_data_size))\n",
    "\n",
    "\n",
    "\tif (i + 1) % 10 == 0:\n",
    "\t\ttorch.save(mynn, './model/train_model{}.pth'.format(i))\n",
    "\t\n",
    "writer.close()\t \n"
   ]
  }
 ],
 "metadata": {
  "kernelspec": {
   "display_name": "Python 3",
   "language": "python",
   "name": "python3"
  },
  "language_info": {
   "codemirror_mode": {
    "name": "ipython",
    "version": 3
   },
   "file_extension": ".py",
   "mimetype": "text/x-python",
   "name": "python",
   "nbconvert_exporter": "python",
   "pygments_lexer": "ipython3",
   "version": "3.8.19"
  }
 },
 "nbformat": 4,
 "nbformat_minor": 2
}
