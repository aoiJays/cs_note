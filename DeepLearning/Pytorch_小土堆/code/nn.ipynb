{
 "cells": [
  {
   "cell_type": "code",
   "execution_count": 1,
   "metadata": {},
   "outputs": [
    {
     "name": "stdout",
     "output_type": "stream",
     "text": [
      "tensor(2.)\n"
     ]
    }
   ],
   "source": [
    "import torch\n",
    "from torch import nn\n",
    "\n",
    "# 需要从nn.Module进行继承\n",
    "class Mynn(nn.Module):\n",
    "    \n",
    "\tdef __init__(self):\n",
    "\t\tsuper().__init__() # 调用父类的初始化函数\n",
    "   \n",
    "\tdef forward(self, input): # 前向传播\n",
    "\t\toutput = input + 1\n",
    "\t\treturn output\n",
    "        \n",
    "\n",
    "mynn = Mynn()\n",
    "x = torch.tensor(1.0)\n",
    "output = mynn(x)\n",
    "print(output)"
   ]
  },
  {
   "cell_type": "code",
   "execution_count": 2,
   "metadata": {},
   "outputs": [
    {
     "data": {
      "text/plain": [
       "tensor([[[-1.4888, -1.9163, -2.3437],\n",
       "         [-1.4888, -1.9163, -2.3437],\n",
       "         [-1.4888, -1.9163, -2.3437]],\n",
       "\n",
       "        [[ 2.4816,  3.4879,  4.4942],\n",
       "         [ 2.4816,  3.4879,  4.4942],\n",
       "         [ 2.4816,  3.4879,  4.4942]],\n",
       "\n",
       "        [[ 1.2391,  1.6655,  2.0918],\n",
       "         [ 1.2391,  1.6655,  2.0918],\n",
       "         [ 1.2391,  1.6655,  2.0918]],\n",
       "\n",
       "        [[-2.3188, -2.9740, -3.6292],\n",
       "         [-2.3188, -2.9740, -3.6292],\n",
       "         [-2.3188, -2.9740, -3.6292]],\n",
       "\n",
       "        [[-1.2819, -1.7590, -2.2360],\n",
       "         [-1.2819, -1.7590, -2.2360],\n",
       "         [-1.2819, -1.7590, -2.2360]],\n",
       "\n",
       "        [[-2.5264, -3.5099, -4.4933],\n",
       "         [-2.5264, -3.5099, -4.4933],\n",
       "         [-2.5264, -3.5099, -4.4933]]], grad_fn=<SqueezeBackward1>)"
      ]
     },
     "execution_count": 2,
     "metadata": {},
     "output_type": "execute_result"
    }
   ],
   "source": [
    "class Mycnn(nn.Module):\n",
    "    \n",
    "\tdef __init__(self):\n",
    "\t\tsuper().__init__() \n",
    "\t\tself.conv1 = nn.Conv2d(in_channels=3, out_channels=6, kernel_size=3, stride=1, padding=0)\n",
    "\n",
    "\tdef forward(self, input): # 前向传播\n",
    "\t\toutput = self.conv1(input)\n",
    "\t\treturn output\n",
    "        \n",
    "mycnn = Mycnn()\n",
    "x = torch.FloatTensor([\n",
    "\t[[1,2,3,4,5],[1,2,3,4,5],[1,2,3,4,5],[1,2,3,4,5],[1,2,3,4,5]],\n",
    "\t[[1,2,3,4,5],[1,2,3,4,5],[1,2,3,4,5],[1,2,3,4,5],[1,2,3,4,5]],\n",
    "\t[[1,2,3,4,5],[1,2,3,4,5],[1,2,3,4,5],[1,2,3,4,5],[1,2,3,4,5]]\n",
    "])\n",
    "\n",
    "# x.shape\n",
    "mycnn(x)"
   ]
  }
 ],
 "metadata": {
  "kernelspec": {
   "display_name": "pytorch-learn",
   "language": "python",
   "name": "python3"
  },
  "language_info": {
   "codemirror_mode": {
    "name": "ipython",
    "version": 3
   },
   "file_extension": ".py",
   "mimetype": "text/x-python",
   "name": "python",
   "nbconvert_exporter": "python",
   "pygments_lexer": "ipython3",
   "version": "3.8.19"
  }
 },
 "nbformat": 4,
 "nbformat_minor": 2
}
