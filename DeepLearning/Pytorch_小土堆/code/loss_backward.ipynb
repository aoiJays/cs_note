{
 "cells": [
  {
   "cell_type": "code",
   "execution_count": 1,
   "metadata": {},
   "outputs": [
    {
     "name": "stdout",
     "output_type": "stream",
     "text": [
      "tensor(2.)\n",
      "tensor(0.6667)\n",
      "tensor(1.3333)\n"
     ]
    }
   ],
   "source": [
    "import torch\n",
    "from torch.nn import *\n",
    "\n",
    "inputs = torch.tensor([1,2,3], dtype=torch.float32).reshape([-1,1,1,3])\n",
    "targets = torch.tensor([1,2,5], dtype=torch.float32).reshape([-1,1,1,3])\n",
    "\n",
    "loss1 = L1Loss(reduction='sum')\n",
    "loss2 = L1Loss(reduction='mean')\n",
    "\n",
    "print( loss1(inputs, targets) )\n",
    "print( loss2(inputs, targets) )\n",
    "\n",
    "loss3 = MSELoss()\n",
    "print( loss3(inputs, targets) )"
   ]
  },
  {
   "cell_type": "code",
   "execution_count": 2,
   "metadata": {},
   "outputs": [
    {
     "name": "stdout",
     "output_type": "stream",
     "text": [
      "tensor([[-0.4528, -0.6391, -0.7192, -0.7080],\n",
      "        [-0.2961,  0.4379, -1.1966, -1.2118],\n",
      "        [ 0.4151,  2.1460,  0.6996, -0.7951],\n",
      "        [-0.5648, -0.7766,  0.3825, -1.3532],\n",
      "        [ 1.2524,  0.8948, -0.4159,  0.7299],\n",
      "        [-1.8150, -0.6261, -0.5099, -1.8997],\n",
      "        [ 0.0148,  1.7543,  0.9726, -0.3020],\n",
      "        [-1.2969,  0.4081,  0.7600, -2.0937],\n",
      "        [ 0.6887,  0.4867,  0.1622,  1.6306],\n",
      "        [-0.1179, -0.1605, -1.9336, -1.4802]])\n",
      "tensor([1, 3, 0, 0, 0, 2, 1, 0, 0, 1])\n"
     ]
    }
   ],
   "source": [
    "import torch\n",
    "import torch.nn as nn\n",
    "\n",
    "# 假设 outputs 是模型的最后一层输出，shape 为 (batch_size, num_classes)，targets 是 ground truth labels\n",
    "outputs = torch.randn(10, 4)  # 对于4分类问题的10个样本的不归一化的预测值\n",
    "targets = torch.randint(0, 4, (10,))  # 对应的真实类别\n",
    "\n",
    "print(outputs)\n",
    "print(targets)"
   ]
  },
  {
   "cell_type": "code",
   "execution_count": 3,
   "metadata": {},
   "outputs": [
    {
     "name": "stdout",
     "output_type": "stream",
     "text": [
      "1.4925801753997803\n"
     ]
    }
   ],
   "source": [
    "loss_fn = nn.CrossEntropyLoss()\n",
    "loss = loss_fn(outputs, targets)\n",
    "print(loss.item())\n"
   ]
  }
 ],
 "metadata": {
  "kernelspec": {
   "display_name": "pytorch-learn",
   "language": "python",
   "name": "python3"
  },
  "language_info": {
   "codemirror_mode": {
    "name": "ipython",
    "version": 3
   },
   "file_extension": ".py",
   "mimetype": "text/x-python",
   "name": "python",
   "nbconvert_exporter": "python",
   "pygments_lexer": "ipython3",
   "version": "3.8.19"
  }
 },
 "nbformat": 4,
 "nbformat_minor": 2
}
